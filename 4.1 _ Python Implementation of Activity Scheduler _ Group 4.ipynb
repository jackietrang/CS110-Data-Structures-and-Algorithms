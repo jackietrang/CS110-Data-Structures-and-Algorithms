{
 "cells": [
  {
   "cell_type": "markdown",
   "metadata": {
    "collapsed": false
   },
   "source": [
    "<div class=\"panel panel-success\">\n",
    "  <div class=\"panel-heading\">\n",
    "    <h3 class=\"panel-title\">BREAKOUT INSTRUCTIONS</h3>\n",
    "  </div> \n",
    "  <div class=\"panel-body\">\n",
    "      In this breakout you will implement a simulation of an activity scheduler using a <i><b> Priority Queue!</b></i><br>\n",
    "Make sure to discuss all the simulator steps involved and answer the question below. Notice that some questions require that you complete the coding parts.\n",
    "    </div>\n",
    "</div>"
   ]
  },
  {
   "cell_type": "markdown",
   "metadata": {
    "collapsed": false
   },
   "source": [
    "Run the code cell below:"
   ]
  },
  {
   "cell_type": "code",
   "execution_count": 1,
   "metadata": {
    "collapsed": false
   },
   "outputs": [
    {
     "data": {
      "text/html": [
       "<img src=\"https://user-images.githubusercontent.com/10622716/73161747-2d014300-40e4-11ea-8305-8bb10448be69.png\" width=\"500\" height=\"500\"/>"
      ],
      "text/plain": [
       "<IPython.core.display.Image object>"
      ]
     },
     "execution_count": 1,
     "metadata": {
     },
     "output_type": "execute_result"
    }
   ],
   "source": [
    "from IPython.display import Image\n",
    "from IPython.core.display import HTML \n",
    "Image(url= \"https://user-images.githubusercontent.com/10622716/73161747-2d014300-40e4-11ea-8305-8bb10448be69.png\", \n",
    "      width=500, height=500)"
   ]
  },
  {
   "cell_type": "markdown",
   "metadata": {
    "collapsed": false
   },
   "source": [
    "Run the following code cell and discuss the diagram as a group. "
   ]
  },
  {
   "cell_type": "code",
   "execution_count": 2,
   "metadata": {
    "collapsed": false
   },
   "outputs": [
    {
     "data": {
      "text/html": [
       "<img src=\"https://user-images.githubusercontent.com/10622716/73247248-613e3780-41a8-11ea-88f2-8061b44eb2ab.png\" width=\"700\" height=\"700\"/>"
      ],
      "text/plain": [
       "<IPython.core.display.Image object>"
      ]
     },
     "execution_count": 2,
     "metadata": {
     },
     "output_type": "execute_result"
    }
   ],
   "source": [
    "Image(url= \"https://user-images.githubusercontent.com/10622716/73247248-613e3780-41a8-11ea-88f2-8061b44eb2ab.png\", \n",
    "      width=700, height=700)"
   ]
  },
  {
   "cell_type": "markdown",
   "metadata": {
    "collapsed": false
   },
   "source": [
    "<span class=\"minerva-question\" style='background-color:#5cb85c;padding: 5px 20px 5px 20px;line-height:30px;color:white;font-weight: bold; border-radius: 25px'>Question 1</span>\n",
    "\n",
    "How many steps does the daily task scheduler have? What does it mean to **insert tasks onto a priority queue**?"
   ]
  },
  {
   "cell_type": "raw",
   "metadata": {
    "collapsed": false
   },
   "source": [
    "7 - steps for the scheduler"
   ]
  },
  {
   "cell_type": "code",
   "execution_count": 0,
   "metadata": {
    "collapsed": false
   },
   "outputs": [
   ],
   "source": [
   ]
  },
  {
   "cell_type": "markdown",
   "metadata": {
    "collapsed": false
   },
   "source": [
    "The following code is a starting point for implementing a priority queue for our task scheduler. Run the cell below and discuss, as a group, what each function does."
   ]
  },
  {
   "cell_type": "code",
   "execution_count": 3,
   "metadata": {
    "collapsed": false
   },
   "outputs": [
    {
     "name": "stdout",
     "output_type": "stream",
     "text": [
      "Input List of Tasks\n",
      "task:0 \t get up at 8:00 AM \t duration:10 \t depends on: [] \t Status: N\n",
      "task:1 \t get dressed and ready \t duration:10 \t depends on: [0] \t Status: N\n",
      "task:2 \t eat healthy breakfast \t duration:40 \t depends on: [0] \t Status: N\n",
      "task:3 \t make grocery list \t duration:20 \t depends on: [0] \t Status: N\n",
      "task:4 \t go to the market \t duration:15 \t depends on: [1, 3] \t Status: N\n",
      "task:5 \t buy groceries in list \t duration:30 \t depends on: [4] \t Status: N\n",
      "task:6 \t drive back home  \t duration:15 \t depends on: [5] \t Status: N\n",
      "task:7 \t store groceries \t duration:5 \t depends on: [6] \t Status: N\n",
      "task:8 \t listen to podcast \t duration:70 \t depends on: [6] \t Status: N\n",
      "task:9 \t make dr s appointment \t duration:5 \t depends on: [0] \t Status: N\n"
     ]
    }
   ],
   "source": [
    "\"\"\"\n",
    "A Simple Daily Task Scheduler Using Priority Queues\n",
    "\"\"\"\n",
    "import heapq\n",
    "\n",
    "def print_input_tasks(tsks):\n",
    "    \"\"\" \n",
    "    Input: list of tasks \n",
    "    Task Status:\n",
    "    - 'N' : Not yet in priority queue (default status)\n",
    "    - 'I' : In priority queue\n",
    "    - 'C' : Completed\n",
    "    Output: print statement with all the tasks to be included in the scheduler\n",
    "    \"\"\"\n",
    "    print('Input List of Tasks')\n",
    "    for t in tsks:\n",
    "        print(f\"task:{t[0]} \\t {t[1]} \\t duration:{t[2]} \\t depends on: {t[3]} \\t Status: {t[4]}\")\n",
    "\n",
    "\n",
    "\n",
    "def initialize_tasks( tsks ):\n",
    "    \"\"\"\n",
    "    Input: list of tasks \n",
    "    Output: initializes all tasks with default status (not yet in the priority queue).\n",
    "    \"\"\"  \n",
    "    for i in range(ntasks):\n",
    "        tasks[i].append('N')\n",
    "        \n",
    "def unscheduled_tasks( tsks ):\n",
    "    \"\"\"\n",
    "    Input: list of tasks \n",
    "    Output: boolean (checks the status of all tasks and returns `True` if at least one task has status = 'N')\n",
    "    \"\"\"\n",
    "    for t in tsks:\n",
    "        if t[4] == 'N':\n",
    "            return True\n",
    "    \n",
    "    return False\n",
    "\n",
    "        \n",
    "def remove_dependency( tsks, tid ):\n",
    "    \"\"\"\n",
    "    Input: list of tasks and task_id of the task just completed\n",
    "    Output: lists of tasks with t_id removed\n",
    "    \"\"\"\n",
    "    for t in range(ntasks):\n",
    "        if tsks[t][0] != tid and tid in tsks[t][3]:\n",
    "            tsks[t][3].remove(tid)\n",
    "\n",
    "            \n",
    "def get_ready_tsks( tsks ):\n",
    "    \"\"\" \n",
    "    Implements step 1 of the scheduler\n",
    "    Input: list of tasks\n",
    "    Output: list of tasks that are ready to execute (i.e. tasks with no pendending task dependencies)\n",
    "    \"\"\"\n",
    "    rtsks = []\n",
    "    for i in range(ntasks):\n",
    "        if tsks[i][4] == 'N' and not tsks[i][3]:   # If tasks has no dependencies and is not yet in queue\n",
    "            tsks[i][4] = 'I'                       # Change status of the task\n",
    "            rtsks.append((tsks[i][0],tsks[i][2]))  # add (task_id, duration) to the list of tasks \n",
    "                                                   # to be pushed onto the priority queue                                      \n",
    "    return rtsks\n",
    "\n",
    "\n",
    "\n",
    "# Task scheduler main iteration loop (steps 1 - 7 in the diagram)\n",
    "\n",
    "# Inputs Parameters to the Scheduler\n",
    "\n",
    "ntasks = 10  # Number of tasks\n",
    "step_sz = 10  # step size of scheduler in minutes\n",
    "c_time = 480  # current time is set to the initial time in minutes (8:00 AM = 8x60)\n",
    "\n",
    "tasks = [[0, 'get up at 8:00 AM', 10, [],], # Defining 10 tasks using Python Lists \n",
    "         [1, 'get dressed and ready', 10, [0]],\n",
    "         [2, 'eat healthy breakfast',40, [0]],\n",
    "         [3, 'make grocery list',20,[0]],\n",
    "         [4, 'go to the market',15,[1,3]],\n",
    "         [5, 'buy groceries in list',30,[4]],\n",
    "         [6, 'drive back home ',15,[5]],\n",
    "         [7, 'store groceries',5,[6]],\n",
    "         [8, 'listen to podcast',70,[6]],\n",
    "         [9,'make dr s appointment',5,[0]]\n",
    "        ]\n",
    "pqueue = [] # Priority Queue\n",
    "\n",
    "# STEP 0: Initialize the status of all tasks in the input list\n",
    "initialize_tasks(tasks)\n",
    "print_input_tasks(tasks)  "
   ]
  },
  {
   "cell_type": "markdown",
   "metadata": {
    "collapsed": false
   },
   "source": [
    "<span class=\"minerva-question\" style='background-color:#5cb85c;padding: 5px 20px 5px 20px;line-height:30px;color:white;font-weight: bold; border-radius: 25px'>Question 2</span>\n",
    "\n",
    "Complete the following function. You will need to replace one line of code for each `### your code here` line"
   ]
  },
  {
   "cell_type": "code",
   "execution_count": 4,
   "metadata": {
    "collapsed": false
   },
   "outputs": [
   ],
   "source": [
    "def add_tasks_pqueue(pqueue, rtsks):\n",
    "    \"\"\" \n",
    "    Implements step 2 of the scheduler\n",
    "    Input: list of tasks\n",
    "    Output: priority queue (created using the heapq module)\n",
    "    \"\"\"  \n",
    "    if rtsks:\n",
    "        if not pqueue:  # If the priority queue is empty\n",
    "            pqueue = rtsks\n",
    "            heapq.heapify(pqueue) #?\n",
    "            \n",
    "        else:\n",
    "            for t in rtsks:\n",
    "                print('this is t',t)\n",
    "                heapq.heappush(t) \n",
    "                \n",
    "    return pqueue"
   ]
  },
  {
   "cell_type": "markdown",
   "metadata": {
    "collapsed": false
   },
   "source": [
    "<span class=\"minerva-question\" style='background-color:#5cb85c;padding: 5px 20px 5px 20px;line-height:30px;color:white;font-weight: bold; border-radius: 25px'>Question 3</span>\n",
    "\n",
    "Now, let's complete our scheduler! You will need to replace one line of code for each `### your code here` line"
   ]
  },
  {
   "cell_type": "code",
   "execution_count": 5,
   "metadata": {
    "collapsed": false
   },
   "outputs": [
    {
     "ename": "IndentationError",
     "evalue": "expected an indented block (<ipython-input-5-7ce0ccd62e3f>, line 30)",
     "output_type": "error",
     "traceback": [
      "\u001b[0;36m  File \u001b[0;32m\"<ipython-input-5-7ce0ccd62e3f>\"\u001b[0;36m, line \u001b[0;32m30\u001b[0m\n\u001b[0;31m    print(\"Completed all planned tasks\")\u001b[0m\n\u001b[0m                                        ^\u001b[0m\n\u001b[0;31mIndentationError\u001b[0m\u001b[0;31m:\u001b[0m expected an indented block\n"
     ]
    }
   ],
   "source": [
    "while unscheduled_tasks(tasks) or pqueue:\n",
    "    \n",
    "    #STEP 1: Extract tasks ready to execute (those without dependencies) \n",
    "    rtsks = get_ready_tsks( tasks )\n",
    "\n",
    "    #STEP 2: Push the tasks onto the priority queue\n",
    "    pqueue = add_tasks_pqueue(pqueue, rtsks)\n",
    "    \n",
    "    if pqueue:  #STEP 3: Check for tasks in the priority queue.\n",
    "        \n",
    "        ### your code here\n",
    "        (tid, rtime) = heapq.heappop(pqueue)   # STEP 4: get the tasks on top of the priority queue\n",
    "        \n",
    "        \n",
    "        print(f\"Simple Scheduler at time: {c_time//60}h{c_time%60} executing task:{tid} remaining time{rtime}\") \n",
    "        tstep = step_sz                        # tstep is the scheduler's time step\n",
    "        if rtime < step_sz:                    # If it is less than the step_size take a smaller time step\n",
    "            tstep = rtime\n",
    "        rtime -= tstep                  # STEP 5: adjust the tasks remaining time\n",
    "        c_time += tstep                # update the schedulers clock\n",
    "        if rtime == 0:                         # STEP 7: Task has been completed\n",
    "            tasks[tid][4] = 'C'   \n",
    "            print(f\"Completed Task:{tid} - {tasks[tid][1]}\") \n",
    "            ####### your code here\n",
    "            \n",
    "        else:\n",
    "            ####### your code here\n",
    "            \n",
    "\n",
    "print(\"Completed all planned tasks\")"
   ]
  }
 ],
 "metadata": {
  "kernelspec": {
   "display_name": "Python 3 (system-wide)",
   "language": "python",
   "metadata": {
    "cocalc": {
     "description": "Python 3 programming language",
     "priority": 100,
     "url": "https://www.python.org/"
    }
   },
   "name": "python3"
  },
  "language_info": {
   "codemirror_mode": {
    "name": "ipython",
    "version": 3
   },
   "file_extension": ".py",
   "mimetype": "text/x-python",
   "name": "python",
   "nbconvert_exporter": "python",
   "pygments_lexer": "ipython3",
   "version": "3.6.9"
  }
 },
 "nbformat": 4,
 "nbformat_minor": 0
}
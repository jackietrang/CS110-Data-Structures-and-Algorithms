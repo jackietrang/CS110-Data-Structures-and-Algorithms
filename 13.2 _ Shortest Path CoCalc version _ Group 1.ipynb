{
 "cells": [
  {
   "cell_type": "markdown",
   "metadata": {
    "collapsed": false
   },
   "source": [
    "<div class=\"panel panel-danger\">\n",
    "  <div class=\"panel-heading\">\n",
    "    <h3 class=\"panel-title\">Breakout Instructions</h3>\n",
    "  </div>\n",
    "  <div class=\"panel-body\">\n",
    "In this breakout you will implement weighted shortest path using Bellman-Ford. Consider the following code below and answer the questions that follow.  </div>\n",
    "</div>"
   ]
  },
  {
   "cell_type": "code",
   "execution_count": 4,
   "metadata": {
    "collapsed": false
   },
   "outputs": [
   ],
   "source": [
    "class Node: \n",
    "    #initializes a node with the various attributes\n",
    "    def __init__(self, name, weighted_adj_list=None): \n",
    "        self.name = name\n",
    "        self.pi = None\n",
    "        self.dist = float('inf')\n",
    "        self.weighted_adj_list = weighted_adj_list\n",
    "        if not weighted_adj_list: \n",
    "            self.weighted_adj_list = {}\n",
    "        \n",
    "    def add_weighted_edge(self,node,weight=0): \n",
    "        self.weighted_adj_list[node.name] = weight\n",
    "        \n",
    "    def remove_weighted_edge(self,node): \n",
    "        self.weighted_adj_list.pop(node.name, None)\n",
    "\n",
    "class Graph: \n",
    "    \n",
    "    def __init__(self, nodes={}): \n",
    "        self.nodes = nodes\n",
    "        \n",
    "    def add_node(self,node): \n",
    "        self.nodes[node.name] = node\n",
    "        \n",
    "    def add_weighted_edge(self,n1,n2, weight): \n",
    "        self.nodes[n1].add_weighted_edge(self.nodes[n2], weight)\n",
    "        \n",
    "    def remove_weighted_edge(self, n1, n2): \n",
    "        self.nodes[n1].remove_weighted_edge(self.nodes[n2])\n",
    "        \n",
    "\n",
    "def initialize_single_source(G,s): \n",
    "    for _,v in G.nodes.items(): \n",
    "        v.dist = float('inf')\n",
    "        v.pi = None\n",
    "    s.dist = 0\n",
    "    \n",
    "def relax(u,v,w): #to have the shortest path after each iteration\n",
    "    # your code goes here!!!\n",
    "    if v.dist > u.dist + w:\n",
    "        v.dist = u.dist + w\n",
    "        v.pi= u\n",
    "\n",
    "def bellman_ford(G,s): \n",
    "    #Set the distances and parents of nodes appropriately\n",
    "    #Also set the root's distance to 0\n",
    "    initialize_single_source(G,s)\n",
    "    \n",
    "    #Iterates for each node\n",
    "    for i in range(len(G.nodes)): \n",
    "        #Iterates for each adjacent node\n",
    "        for _,u in G.nodes.items(): \n",
    "            #Takes the nodes and weights adjacent to the ones we are looking a\n",
    "            for vname,weight in u.weighted_adj_list.items(): \n",
    "                #Relaxes the distance\n",
    "                v = G.nodes[vname]\n",
    "                relax(u,v,weight)\n",
    "                \n",
    "    #Iterates for each adjacent node\n",
    "    for _,u in G.nodes.items():\n",
    "        #takes nodes and weights adjacent to the one we are looking at\n",
    "        for vname,weight in u.weighted_adj_list.items(): \n",
    "            v = G.nodes[vname]\n",
    "            if v.dist > u.dist + u.weighted_adj_list[v.name]:\n",
    "                return False\n",
    "    return True"
   ]
  },
  {
   "cell_type": "code",
   "execution_count": 5,
   "metadata": {
    "collapsed": false
   },
   "outputs": [
   ],
   "source": [
    "g2 = Graph({})\n",
    "g2.add_node(Node('s',{'t':6,'y':7})) #s has two vertexes: t, y with weights 6, 7 respectively\n",
    "g2.add_node(Node('t',{'x':5,'y':8,'z':-4}))\n",
    "g2.add_node(Node('x',{'t':-2}))\n",
    "g2.add_node(Node('z',{'x':7,'s':2}))\n",
    "g2.add_node(Node('y',{'x':-3,'z':9}))"
   ]
  },
  {
   "cell_type": "code",
   "execution_count": 0,
   "metadata": {
    "collapsed": false
   },
   "outputs": [
   ],
   "source": [
   ]
  },
  {
   "cell_type": "markdown",
   "metadata": {
    "collapsed": false
   },
   "source": [
    "<span class=\"minerva-question\" style='background-color:#d9534f;padding: 5px 20px 5px 20px;line-height:30px;color:white;font-weight: bold; border-radius: 25px'>Question 1</span>\n",
    "\n",
    "Read through the provided code and add comments to the provided functions. Then, as a group, complete the Python code for the **`relax(u,v)` function**. WRite down `done` once you finish this task."
   ]
  },
  {
   "cell_type": "code",
   "execution_count": 0,
   "metadata": {
    "collapsed": false
   },
   "outputs": [
   ],
   "source": [
    "## your answer"
   ]
  },
  {
   "cell_type": "markdown",
   "metadata": {
    "collapsed": false
   },
   "source": [
    "<span class=\"minerva-question\" style='background-color:#d9534f;padding: 5px 20px 5px 20px;line-height:30px;color:white;font-weight: bold; border-radius: 25px'>Question 2</span>\n",
    "\n",
    "What does the relax function do?  Explain."
   ]
  },
  {
   "cell_type": "markdown",
   "metadata": {
    "collapsed": false
   },
   "source": [
    "## your answer\n",
    "The relax function has the purpose of updating the distance value of each vertex and source for N-1 iterations."
   ]
  },
  {
   "cell_type": "markdown",
   "metadata": {
    "collapsed": false
   },
   "source": [
    "<span class=\"minerva-question\" style='background-color:#d9534f;padding: 5px 20px 5px 20px;line-height:30px;color:white;font-weight: bold; border-radius: 25px'>Question 3</span>\n",
    "\n",
    "How many times is the function `relax` called by the Bellman-Ford algorithm? Why? "
   ]
  },
  {
   "cell_type": "markdown",
   "metadata": {
    "collapsed": false
   },
   "source": [
    "The funtion relax is call N-1 times (N is the number of total verticles) because in this directed graph we have N-1 combination.\n",
    "\n",
    "\n",
    "The function is called E*\\N times, where E is the number of edges, and N is the number of nodes"
   ]
  },
  {
   "cell_type": "markdown",
   "metadata": {
    "collapsed": false
   },
   "source": [
    "<span class=\"minerva-question\" style='background-color:#d9534f;padding: 5px 20px 5px 20px;line-height:30px;color:white;font-weight: bold; border-radius: 25px'>Question 4</span>\n",
    "\n",
    "What does the final for loop in the Bellman-Ford algorithm do and why? "
   ]
  },
  {
   "cell_type": "markdown",
   "metadata": {
    "collapsed": false
   },
   "source": [
    "## your answer\n",
    "Return False if we have negative cycle and vice-versa.If there's a negative cycle, v.distance > u.distance + w. --> We cannot find the shortest path to the problem."
   ]
  },
  {
   "cell_type": "markdown",
   "metadata": {
    "collapsed": false
   },
   "source": [
    "<span class=\"minerva-question\" style='background-color:#d9534f;padding: 5px 20px 5px 20px;line-height:30px;color:white;font-weight: bold; border-radius: 25px'>Question 5</span>\n",
    "\n",
    "Lastly, use the Bellman-Ford algorithm to find:\n",
    "- the least costly non-source node to visit from the source node `s` \n",
    "- and the most costly non-source node to visit from the source node `s`.\n"
   ]
  },
  {
   "cell_type": "code",
   "execution_count": 0,
   "metadata": {
    "collapsed": false
   },
   "outputs": [
   ],
   "source": [
    "## your answer"
   ]
  }
 ],
 "metadata": {
  "kernelspec": {
   "display_name": "Python 3 (Anaconda 5)",
   "env": {
    "LD_LIBRARY_PATH": "/ext/anaconda5/lib",
    "PROJ_LIB": "/ext/anaconda-2019.03/share/proj",
    "PYTHONHOME": "/ext/anaconda5/lib/python3.5",
    "PYTHONPATH": "/ext/anaconda5/lib/python3.5:/ext/anaconda5/lib/python3.5/site-packages"
   },
   "language": "python",
   "metadata": {
    "cocalc": {
     "description": "Python/R distribution for data science",
     "priority": -1,
     "url": "https://www.anaconda.com/distribution/"
    }
   },
   "name": "anaconda5"
  },
  "language_info": {
   "codemirror_mode": {
    "name": "ipython",
    "version": 3
   },
   "file_extension": ".py",
   "mimetype": "text/x-python",
   "name": "python",
   "nbconvert_exporter": "python",
   "pygments_lexer": "ipython3",
   "version": "3.6.7"
  }
 },
 "nbformat": 4,
 "nbformat_minor": 4
}
{
 "cells": [
  {
   "cell_type": "markdown",
   "metadata": {
    "collapsed": false
   },
   "source": [
    "<div class=\"panel panel-success\">\n",
    "  <div class=\"panel-heading\">\n",
    "    <h3 class=\"panel-title\">BREAKOUT INSTRUCTIONS</h3>\n",
    "  </div> \n",
    "  <div class=\"panel-body\">\n",
    "Review your solutions to the currency trading problem (quoted below) from the pre-class work. Afterwards, answer the questions below.  </div>\n",
    "</div>"
   ]
  },
  {
   "cell_type": "markdown",
   "metadata": {
    "collapsed": false
   },
   "source": [
    "**Currency trading**\n",
    "\n",
    "(Slightly simplified version of 15.3-6 from Cormen et al.)\n",
    "Imagine that you wish to exchange one currency for another. You realize that instead of directly exchanging one currency for another, you might be better off making a series of trades through other currencies, winding up with the currency you want. Suppose that you can trade $n$ different currencies, numbered $1,2,… ,n$, where you start with currency 1 and wish to wind up with currency $n$. You are given, for each pair of currencies $i$ and $j$ , an exchange rate $r_{ij}$ , meaning that if you start with $d$ units of currency $i$ , you can trade for drij units of currency $j$. Note that the total number of trades allowed is limited to $n$. \n",
    "\n",
    "Assuming there is no commission, write python code to solve this problem using either a memoization or bottom-up strategy.\n",
    "\n",
    "Here is some example data:\n",
    "|      |  USD | EUR  | GBP  | CHF  | CAD |\n",
    "| ---- | ---- | ---- | ---- | ---- | --- |\n",
    "| USD | 1 | 0.741 | 0.657 | 1.061 | 1.005 |\n",
    "| EUR | 1.349 | 1    |  0.888 | 1.433 | 1.366 |\n",
    "| GBP | 1.521 | 1.126|  1     | 1.614 | 1.538 |\n",
    "| CHF | 0.942 | 0.698|  0.619 | 1     | 0.953 |\n",
    "| CAD | 0.995 | 0.732|  0.650 | 1.049 | 1     |"
   ]
  },
  {
   "cell_type": "markdown",
   "metadata": {
    "collapsed": false
   },
   "source": [
    "<span class=\"minerva-question\" style='background-color:#5cb85c;padding: 5px 20px 5px 20px;line-height:30px;color:white;font-weight: bold; border-radius: 25px'>Question 1</span>\n",
    "Write below your Python code to solve this problem."
   ]
  },
  {
   "cell_type": "code",
   "execution_count": 0,
   "metadata": {
    "collapsed": false
   },
   "outputs": [
   ],
   "source": [
    "dic_currency = {0: 'USD', 1: 'EUR', 2: 'GBP', 3: 'CHF', 4: 'CAD'} \n",
    "extra_cost_arr = [[0.002, 0.002, 0.002, 0.002, 0.002],                   \n",
    "                   [0.002, 0.002, 0.002, 0.002, 0.002],                   \n",
    "                   [0.002, 0.002, 0.002, 0.002, 0.002],\n",
    "                   [0.002, 0.002, 0.002, 0.002, 0.002],\n",
    "                   [0.002, 0.002, 0.002, 0.002, 0.002]]\n",
    "    \n",
    "def forex_with_cost(ex, cost, n):\n",
    "    newex = copy.deepcopy(ex)\n",
    "    improvements = 0\n",
    "    # make a place to store the series of best trades\n",
    "    best = [['' for j in range(len(newex))] for i in range(len(newex))]\n",
    "    for length in range(2,n):\n",
    "        print('length is ' + str(length))\n",
    "        print(improvements)\n",
    "        # for each possible beginning currency\n",
    "        for curr1 in range(len(newex)):\n",
    "            #for each possible ending currency\n",
    "            for curr2 in range(len(newex)):\n",
    "                #try adding one more intermediate currency at the end\n",
    "                for curr3 in range(len(newex)):\n",
    "                    if (curr3 != curr2) and (curr3 != curr1) and ( (newex[curr1][curr3]) * (ex[curr3][curr2]) - cost[curr1][curr3]) > (newex[curr1][curr2]):\n",
    "                            newex[curr1][curr2] = round(( (newex[curr1][curr3]) * (ex[curr3][curr2]) - cost[curr1][curr3]), 4)\n",
    "                            improvements += 1\n",
    "                            best[curr1][curr2] = best[curr1][curr3] + ' ' +\n",
    "                            dic_currency[curr3]\n",
    "                            print(improvements)\n",
    "                        return (newex,best)\n",
    "(newex_cost,best_cost) = forex_with_cost(exarr, extra_cost_arr, 3)\n",
    "print('newex_cost:')\n",
    "for i in enumerate(newex_cost):\n",
    "    print(i)\n",
    "print('\\n')\n",
    "print('best_cost:')\n",
    "for i in enumerate(best_cost):\n",
    "print(i)"
   ]
  },
  {
   "cell_type": "markdown",
   "metadata": {
    "collapsed": false
   },
   "source": [
    "<span class=\"minerva-question\" style='background-color:#5cb85c;padding: 5px 20px 5px 20px;line-height:30px;color:white;font-weight: bold; border-radius: 25px'>Question 2</span>\n",
    "\n",
    "Why do we need to limit the total number of trades allowed? "
   ]
  },
  {
   "cell_type": "code",
   "execution_count": 0,
   "metadata": {
    "collapsed": false
   },
   "outputs": [
   ],
   "source": [
   ]
  },
  {
   "cell_type": "markdown",
   "metadata": {
    "collapsed": false
   },
   "source": [
    "<span class=\"minerva-question\" style='background-color:#5cb85c;padding: 5px 20px 5px 20px;line-height:30px;color:white;font-weight: bold; border-radius: 25px'>Question 3</span>\n",
    "\n",
    "What is the time complexity of the dynamic programming solution? What would be the time complexity of a brute force solution?"
   ]
  },
  {
   "cell_type": "code",
   "execution_count": 0,
   "metadata": {
    "collapsed": false
   },
   "outputs": [
   ],
   "source": [
   ]
  },
  {
   "cell_type": "markdown",
   "metadata": {
    "collapsed": false
   },
   "source": [
    "<span class=\"minerva-question\" style='background-color:#5cb85c;padding: 5px 20px 5px 20px;line-height:30px;color:white;font-weight: bold; border-radius: 25px'>Question 4</span>\n",
    "\n",
    "Let $c_k$ be the commission that you are charged when you make $k$ trades. Show that if commissions $c_k$ are arbitrary values, then the problem of finding the best sequence of exchanges from currency 1 to currency $n$ does not necessarily exhibit optimal substructure."
   ]
  },
  {
   "cell_type": "code",
   "execution_count": 0,
   "metadata": {
    "collapsed": false
   },
   "outputs": [
   ],
   "source": [
   ]
  }
 ],
 "metadata": {
  "kernelspec": {
   "display_name": "Python 3 (system-wide)",
   "language": "python",
   "metadata": {
    "cocalc": {
     "description": "Python 3 programming language",
     "priority": 100,
     "url": "https://www.python.org/"
    }
   },
   "name": "python3"
  },
  "language_info": {
   "codemirror_mode": {
    "name": "ipython",
    "version": 3
   },
   "file_extension": ".py",
   "mimetype": "text/x-python",
   "name": "python",
   "nbconvert_exporter": "python",
   "pygments_lexer": "ipython3",
   "version": "3.6.9"
  }
 },
 "nbformat": 4,
 "nbformat_minor": 4
}
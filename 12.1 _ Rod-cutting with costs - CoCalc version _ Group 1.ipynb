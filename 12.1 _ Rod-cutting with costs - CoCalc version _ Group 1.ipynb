{
 "cells": [
  {
   "cell_type": "markdown",
   "metadata": {
    "collapsed": false
   },
   "source": [
    "<div class=\"panel panel-warning\">\n",
    "  <div class=\"panel-heading\">\n",
    "    <h3 class=\"panel-title\">BREAKOUT INSTRUCTIONS</h3>\n",
    "  </div>\n",
    "  <div class=\"panel-body\">\n",
    "Answer the questions below. You will be asked to present your work after the breakout so make sure to indicate your answers clearly and concisely.\n",
    "  </div>\n",
    "</div>"
   ]
  },
  {
   "cell_type": "markdown",
   "metadata": {
    "collapsed": false
   },
   "source": [
    "<blockquote class=\"alert-warning\">\n",
    "    <small>\n",
    "Consider a modification of the rod-cutting problem in which, in addition to a price $p_i$ for each rod, each cut incurs a fixed cost of $c$. The revenue associated with a solution is now the sum of the prices of the pieces minus the costs of making the cuts. (Adapted from Cormen et al. page 370) </small>\n",
    "    </blockquote>"
   ]
  },
  {
   "cell_type": "markdown",
   "metadata": {
    "collapsed": false
   },
   "source": [
    "<span class=\"minerva-question\" style='background-color:#f0ad4e;padding: 5px 20px 5px 20px;line-height:30px;color:white;font-weight: bold; border-radius: 25px'>Question 1</span>\n",
    "\n",
    "Paste your dynamic programmic algorithm for the original rod-ccutting problem and make the necessary adjustments for the rod-cutting problem with cost.\n",
    "Use the new set of prices which are as follows:\n",
    "\n",
    "| Length        | 1 | 2 | 3 | 4 | 5 | 6 | 7 | 8 | 9| 10 |\n",
    "| ----- |:-----:| -----:| -----:| -----:| -----:| -----:| -----:| -----:| -----:| -----:|\n",
    "| Price    | 2  | 8 |  8  | 9 | 10 | 17 | 17 | 20 | 24 | 30 |\n",
    "\n"
   ]
  },
  {
   "cell_type": "code",
   "execution_count": 19,
   "metadata": {
    "collapsed": false
   },
   "outputs": [
    {
     "data": {
      "text/plain": [
       "([0, 2, 8, 10, 16, 18, 24, 26, 32, 34, 40], [0, 1, 2, 1, 2, 1, 2, 1, 2, 1, 2])"
      ]
     },
     "execution_count": 19,
     "metadata": {
     },
     "output_type": "execute_result"
    }
   ],
   "source": [
    "p = [2,8,8,9,10,17,17,20,24,30]\n",
    "\n",
    "def extended_bottom_up_cut_rod1(p,n):\n",
    "\n",
    "    # initialize array r and s\n",
    "    r = [0]*(n+1)\n",
    "    s = [0]*(n+1)\n",
    "\n",
    "    for j in range(1,n+1):\n",
    "      q = -float('INF')\n",
    "      for i in range(1,j+1):\n",
    "        if q < p[i-1] + r[j-i]:\n",
    "          q = p[i-1] + r[j-i]\n",
    "          s[j] = i\n",
    "\n",
    "      r[j] = q\n",
    "    \n",
    "    return (r,s) \n",
    "\n",
    "extended_bottom_up_cut_rod1(p, 10)"
   ]
  },
  {
   "cell_type": "code",
   "execution_count": 2,
   "metadata": {
    "collapsed": false
   },
   "outputs": [
   ],
   "source": [
    "## your code here\n",
    "\n",
    "p = [2,8,8,9,10,17,17,20,24,30]\n",
    "\n",
    "def extended_bottom_up_cut_rod(p,n,c):\n",
    "\n",
    "    # initialize array r and s\n",
    "    r = [0]*(n+1)\n",
    "    s = [0]*(n+1)\n",
    "\n",
    "    for j in range(1,n+1):\n",
    "      q = -float('INF')\n",
    "      for i in range(1,j+1):\n",
    "        if q < p[i-1] + r[j-i] - c:\n",
    "          q = p[i-1] + r[j-i] - c\n",
    "          s[j] = i\n",
    "\n",
    "      r[j] = q\n",
    "    \n",
    "    return (r,s) "
   ]
  },
  {
   "cell_type": "code",
   "execution_count": 3,
   "metadata": {
    "collapsed": false
   },
   "outputs": [
    {
     "data": {
      "text/plain": [
       "([0, 0, 6, 6, 12, 12, 18, 18, 24, 24, 30], [0, 1, 2, 1, 2, 1, 2, 1, 2, 1, 2])"
      ]
     },
     "execution_count": 3,
     "metadata": {
     },
     "output_type": "execute_result"
    }
   ],
   "source": [
    "extended_bottom_up_cut_rod(p, 10, 2)"
   ]
  },
  {
   "cell_type": "code",
   "execution_count": 10,
   "metadata": {
    "collapsed": false
   },
   "outputs": [
    {
     "data": {
      "text/plain": [
       "([0, 2, 8, 10, 16, 18, 24, 26, 32, 34, 40], [0, 1, 2, 1, 2, 1, 2, 1, 2, 1, 2])"
      ]
     },
     "execution_count": 10,
     "metadata": {
     },
     "output_type": "execute_result"
    }
   ],
   "source": [
    "extended_bottom_up_cut_rod_without_cost(p,10)"
   ]
  },
  {
   "cell_type": "code",
   "execution_count": 7,
   "metadata": {
    "collapsed": false
   },
   "outputs": [
   ],
   "source": [
    "def extended_bottom_up_cut_rod_without_cost(p,n):\n",
    "\n",
    "    # initialize array r and s\n",
    "    r = [0]*(n+1)\n",
    "    s = [0]*(n+1)\n",
    "\n",
    "    for j in range(1,n+1):\n",
    "      q = -float('INF')\n",
    "      for i in range(1,j+1):\n",
    "        if q < p[i-1] + r[j-i]:\n",
    "          q = p[i-1] + r[j-i]\n",
    "          s[j] = i\n",
    "\n",
    "      r[j] = q\n",
    "    \n",
    "    return (r,s) "
   ]
  },
  {
   "cell_type": "code",
   "execution_count": 11,
   "metadata": {
    "collapsed": false
   },
   "outputs": [
   ],
   "source": [
    "def print_cut_rod_solution(p,n,c):\n",
    "\n",
    "    r,s = extended_bottom_up_cut_rod(p,n,c)\n",
    "    # printing the solution\n",
    "    while(n > 0):\n",
    "      print(s[n])\n",
    "      n = n - s[n]\n",
    "\n",
    "    return 0\n"
   ]
  },
  {
   "cell_type": "code",
   "execution_count": 13,
   "metadata": {
    "collapsed": false
   },
   "outputs": [
    {
     "name": "stdout",
     "output_type": "stream",
     "text": [
      "2\n",
      "2\n",
      "2\n",
      "2\n",
      "2\n"
     ]
    },
    {
     "data": {
      "text/plain": [
       "0"
      ]
     },
     "execution_count": 13,
     "metadata": {
     },
     "output_type": "execute_result"
    }
   ],
   "source": [
    "print_cut_rod_solution(p,10,2)"
   ]
  },
  {
   "cell_type": "code",
   "execution_count": 14,
   "metadata": {
    "collapsed": false
   },
   "outputs": [
    {
     "name": "stdout",
     "output_type": "stream",
     "text": [
      "10\n"
     ]
    },
    {
     "data": {
      "text/plain": [
       "0"
      ]
     },
     "execution_count": 14,
     "metadata": {
     },
     "output_type": "execute_result"
    }
   ],
   "source": [
    "print_cut_rod_solution(p,10,3)"
   ]
  },
  {
   "cell_type": "markdown",
   "metadata": {
    "collapsed": false
   },
   "source": [
    "<span class=\"minerva-question\" style='background-color:#f0ad4e;padding: 5px 20px 5px 20px;line-height:30px;color:white;font-weight: bold; border-radius: 25px'>Question 2</span>\n",
    "\n",
    "Find the cost for which 2 cuts of 10 is again an optimal solution when the rod is of length 20."
   ]
  },
  {
   "cell_type": "code",
   "execution_count": 0,
   "metadata": {
    "collapsed": false
   },
   "outputs": [
   ],
   "source": [
    "## your code here"
   ]
  }
 ],
 "metadata": {
  "kernelspec": {
   "display_name": "Python 3 (system-wide)",
   "language": "python",
   "metadata": {
    "cocalc": {
     "description": "Python 3 programming language",
     "priority": 100,
     "url": "https://www.python.org/"
    }
   },
   "name": "python3"
  },
  "language_info": {
   "codemirror_mode": {
    "name": "ipython",
    "version": 3
   },
   "file_extension": ".py",
   "mimetype": "text/x-python",
   "name": "python",
   "nbconvert_exporter": "python",
   "pygments_lexer": "ipython3",
   "version": "3.6.9"
  }
 },
 "nbformat": 4,
 "nbformat_minor": 4
}
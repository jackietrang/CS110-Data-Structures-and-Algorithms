{
 "cells": [
  {
   "cell_type": "markdown",
   "metadata": {
    "collapsed": false
   },
   "source": [
    "<div class=\"panel panel-warning\">\n",
    "  <div class=\"panel-heading\">\n",
    "    <h3 class=\"panel-title\">Game Strategy Breakout</h3>\n",
    "  </div>\n",
    "  <div class=\"panel-body\">\n",
    "Review the pre-class work money game problem and answer the questions below.  </div>\n",
    "</div>"
   ]
  },
  {
   "cell_type": "markdown",
   "metadata": {
    "collapsed": false
   },
   "source": [
    "\n",
    "Consider a row of $n$ coins of values $v(1) ... v(n)$, where $n$ is even. We play a game against an opponent by alternating turns. In each turn, a player selects either the first or last coin from the row, removes it from the row permanently, and receives the value of the coin. Determine the maximum possible amount of money we can definitely win if we move first.\n",
    "\n",
    "For example, consider the game:\n",
    "```\n",
    "$2, $10, $1, $5\n",
    "```\n",
    "\n",
    "By moving first and playing optimally one can be guaranteed of \\$15. The first move is to take \\$5. This forces your opponent to take either \\$2 or \\$1, and then allows you to take \\$10."
   ]
  },
  {
   "cell_type": "markdown",
   "metadata": {
    "collapsed": false
   },
   "source": [
    "<span class=\"minerva-question\" style='background-color:#f0ad4e;padding: 5px 20px 5px 20px;line-height:30px;color:white;font-weight: bold; border-radius: 25px'>Question 1</span>\n",
    "\n",
    "Paste in your Python code for solving the game using a bottom-up strategy, and compare each other’s solutions. Help fix any bugs and return to class ready to explain all aspects of the solution."
   ]
  },
  {
   "cell_type": "code",
   "execution_count": 0,
   "metadata": {
    "collapsed": false
   },
   "outputs": [
   ],
   "source": [
    "def bottom_up_coin_game(A, arr=[]):\n",
    "    \"\"\"\n",
    "    Returns the maximum possible amount of money the first-move player can win,\n",
    "    given an array of coin values. The function solves this using a bottom-up \n",
    "    approach.\n",
    "    \n",
    "    Inputs:\n",
    "    - A: list of floats, values of the coins, of even length. \n",
    "    \n",
    "    Outputs:\n",
    "    - max_val: float, maximum possible amount of money that can be won by the first \n",
    "    player. max_val is None when the length of list A is odd.\n",
    "    \"\"\"  \n",
    "    #Ensures that A is of even length\n",
    "    if (len(A) % 2) == 1:\n",
    "        return None\n",
    "    \n",
    "    max_val = 0\n",
    "    \n",
    "    #Creates a storage vector of appropriate size for the input array\n",
    "    if arr == []:\n",
    "        arr = [[0 for j in range(len(A))] for i in range(len(A))]\n",
    "    \n",
    "    #Iterates through different lengths\n",
    "    for n in range(len(A)):\n",
    "        #Iterates through starting values\n",
    "        for i in range(len(A)):\n",
    "            #Ensures that the position referenced exists\n",
    "            if i+n < len(A):\n",
    "                #Deal with base cases of n=0 and n=1\n",
    "                if n == 0:\n",
    "                    arr[i][i] = A[i]\n",
    "                    \n",
    "                elif n == 1:\n",
    "                    arr[i][i+n] = max(A[i], A[i+n])\n",
    "                \n",
    "                #Deal with more complicated cases using our already solved subproblems\n",
    "                else:\n",
    "                    #Decides who's turn it is - even = us, odd = opponent\n",
    "                    count = n-1\n",
    "                    if count % 2 == 0:\n",
    "                        #Takes the maximum possible value from the choices\n",
    "                        arr[i][i+n] = max(A[i+n] + arr[i+1][i+n], A[i] + arr[i][i+n-1])\n",
    "                    else:\n",
    "                        #Takes the minimum possible value from the choices\n",
    "                        arr[i][i+n] = min(A[i+n] + arr[i+1][i+n], A[i] + arr[i][i+n-1])\n",
    "\n",
    "        #Returns the upper right corner\n",
    "        max_val = arr[0][len(A)-1]\n",
    "    return max_val"
   ]
  },
  {
   "cell_type": "markdown",
   "metadata": {
    "collapsed": false
   },
   "source": [
    "<span class=\"minerva-question\" style='background-color:#f0ad4e;padding: 5px 20px 5px 20px;line-height:30px;color:white;font-weight: bold; border-radius: 25px'>Question 2</span>\n",
    "\n",
    "Work together to write a memoized solution to the currency trading problem. Write your Python code below."
   ]
  },
  {
   "cell_type": "code",
   "execution_count": 0,
   "metadata": {
    "collapsed": false
   },
   "outputs": [
   ],
   "source": [
   ]
  },
  {
   "cell_type": "code",
   "execution_count": 0,
   "metadata": {
    "collapsed": false
   },
   "outputs": [
   ],
   "source": [
    "def memoized_coin_game(A, arr=[]):\n",
    "    \"\"\"\n",
    "    Returns the maximum possible amount of money the first-move player can win,\n",
    "    given an array of coin values. The function solves this using a bottom-up \n",
    "    approach.\n",
    "    \n",
    "    Inputs:\n",
    "    - A: list of floats, values of the coins, of even length. \n",
    "    \n",
    "    Outputs:\n",
    "    - max_val: float, maximum possible amount of money that can be won by the first \n",
    "    player. max_val is None when the length of list A is odd.\n",
    "    \"\"\"  \n",
    "    \n",
    "    ## TODO:\n",
    "    Choices = []\n",
    "    \n",
    "    \n",
    "    #Ensures that A is of even length\n",
    "    if (len(A) % 2) == 1:\n",
    "        return None\n",
    "    \n",
    "    max_val = 0\n",
    "    \n",
    "    #Creates a storage vector of appropriate size for the input array\n",
    "    if arr == []:\n",
    "        arr = [[0 for j in range(len(A))] for i in range(len(A))]\n",
    "    \n",
    "    #Iterates through different lengths\n",
    "    for n in range(len(A)):\n",
    "        #Iterates through starting values\n",
    "        for i in range(len(A)):\n",
    "            #Ensures that the position referenced exists\n",
    "            if i+n < len(A):\n",
    "                #Deal with base cases of n=0 and n=1\n",
    "                if n == 0:\n",
    "                    arr[i][i] = A[i]\n",
    "                    \n",
    "                elif n == 1:\n",
    "                    arr[i][i+n] = max(A[i], A[i+n])\n",
    "                \n",
    "                #Deal with more complicated cases using our already solved subproblems\n",
    "                \n",
    "                    \n",
    "                else:\n",
    "                    #Decides who's turn it is - even = us, odd = opponent\n",
    "                    count = n-1\n",
    "                    if count % 2 == 0:\n",
    "                        #Takes the maximum possible value from the choices\n",
    "                        arr[i][i+n] = max(A[i+n] + arr[i+1][i+n], A[i] + arr[i][i+n-1])\n",
    "                    else:\n",
    "                        #Takes the minimum possible value from the choices\n",
    "                        arr[i][i+n] = min(A[i+n] + arr[i+1][i+n], A[i] + arr[i][i+n-1])\n",
    "\n",
    "        #Returns the upper right corner\n",
    "        max_val = arr[0][len(A)-1]\n",
    "    return max_val"
   ]
  },
  {
   "cell_type": "code",
   "execution_count": 6,
   "metadata": {
    "collapsed": false
   },
   "outputs": [
   ],
   "source": [
    "def memoized_coin_game(A, arr=[]):\n",
    "    \"\"\"\n",
    "    Returns the maximum possible amount of money the first-move player can win,\n",
    "    given an array of coin values. The function solves this using a bottom-up \n",
    "    approach.\n",
    "    \n",
    "    Inputs:\n",
    "    - A: list of floats, values of the coins, of even length. \n",
    "    \n",
    "    Outputs:\n",
    "    - max_val: float, maximum possible amount of money that can be won by the first \n",
    "    player. max_val is None when the length of list A is odd.\n",
    "    \"\"\"  \n",
    "\n",
    "    #Ensures that A is of even length\n",
    "    if (len(A) % 2) == 1:\n",
    "        return None\n",
    "    \n",
    "    max_val = 0\n",
    "    \n",
    "    #Creates a storage vector of appropriate size for the input array\n",
    "    if arr == []:\n",
    "        arr = [[0 for j in range(len(A))] for i in range(len(A))]\n",
    "    \n",
    "    #Iterates through different lengths\n",
    "    for n in range(len(A)):\n",
    "        #Iterates through starting values\n",
    "        for i in range(len(A)):\n",
    "            #Ensures that the position referenced exists\n",
    "            if i+n < len(A):\n",
    "                #Deal with base cases of n=0 and n=1\n",
    "                if n == 0:\n",
    "                    arr[i][i] = [A[i], A[i]]\n",
    "                    \n",
    "                elif n == 1:\n",
    "                    arr[i][i+n] = [max(A[i], A[i+n]), 0]\n",
    "                    \n",
    "                    if arr[i][i+n][0] == A[i]:\n",
    "                        arr[i][i+n][1] = [A[i], A[i+n]]\n",
    "                    else:\n",
    "                        arr[i][i+n][1] = [A[i+n], A[i]]  \n",
    "                else:\n",
    "                    #Decides who's turn it is - even = us, odd = opponent\n",
    "                    count = n-1\n",
    "                    if count % 2 == 0:\n",
    "                        #Takes the maximum possible value from the choices\n",
    "                        arr[i][i+n] = [max(A[i+n] + arr[i+1][i+n][0], A[i] + arr[i][i+n-1][0]), 0]\n",
    "                        \n",
    "                        if arr[i][i+n][0] == A[i+n] + arr[i+1][i+n][0]:\n",
    "                            arr[i][i+n][1] = arr[i+1][i+n][1]\n",
    "                            arr[i+1][i+n][1].append(A[i+n])\n",
    "                        else:\n",
    "                            arr[i][i+n][1] = A[i+n]\n",
    "                            arr[i][i+n][1] = arr[i][i+n-1][1]\n",
    "                            arr[i][i+n-1][1].append(A[i])\n",
    "                    else:\n",
    "                        #Takes the minimum possible value from the choices\n",
    "                        arr[i][i+n] = [min(A[i+n] + arr[i+1][i+n][0], A[i] + arr[i][i+n-1][0]), 0]\n",
    "\n",
    "        #Returns the upper right corner\n",
    "        max_val = arr[0][len(A)-1]\n",
    "    return max_val"
   ]
  },
  {
   "cell_type": "code",
   "execution_count": 7,
   "metadata": {
    "collapsed": false
   },
   "outputs": [
    {
     "ename": "AttributeError",
     "evalue": "'int' object has no attribute 'append'",
     "output_type": "error",
     "traceback": [
      "\u001b[0;31m---------------------------------------------------------------------------\u001b[0m",
      "\u001b[0;31mAttributeError\u001b[0m                            Traceback (most recent call last)",
      "\u001b[0;32m<ipython-input-7-6cbe03313291>\u001b[0m in \u001b[0;36m<module>\u001b[0;34m\u001b[0m\n\u001b[1;32m      1\u001b[0m \u001b[0;32mimport\u001b[0m \u001b[0mnumpy\u001b[0m \u001b[0;32mas\u001b[0m \u001b[0mnp\u001b[0m\u001b[0;34m\u001b[0m\u001b[0;34m\u001b[0m\u001b[0m\n\u001b[0;32m----> 2\u001b[0;31m \u001b[0;32massert\u001b[0m\u001b[0;34m(\u001b[0m\u001b[0mmemoized_coin_game\u001b[0m\u001b[0;34m(\u001b[0m\u001b[0;34m[\u001b[0m\u001b[0;36m2\u001b[0m\u001b[0;34m,\u001b[0m \u001b[0;36m10\u001b[0m\u001b[0;34m,\u001b[0m \u001b[0;36m1\u001b[0m\u001b[0;34m,\u001b[0m \u001b[0;36m5\u001b[0m\u001b[0;34m]\u001b[0m\u001b[0;34m)\u001b[0m \u001b[0;34m==\u001b[0m \u001b[0;36m15\u001b[0m\u001b[0;34m)\u001b[0m\u001b[0;34m\u001b[0m\u001b[0;34m\u001b[0m\u001b[0m\n\u001b[0m\u001b[1;32m      3\u001b[0m \u001b[0;32massert\u001b[0m\u001b[0;34m(\u001b[0m\u001b[0mmemoized_coin_game\u001b[0m\u001b[0;34m(\u001b[0m\u001b[0;34m[\u001b[0m\u001b[0;36m2\u001b[0m\u001b[0;34m,\u001b[0m \u001b[0;36m10\u001b[0m\u001b[0;34m,\u001b[0m \u001b[0;36m1\u001b[0m\u001b[0;34m,\u001b[0m \u001b[0;36m5\u001b[0m\u001b[0;34m,\u001b[0m \u001b[0;36m5\u001b[0m\u001b[0;34m]\u001b[0m\u001b[0;34m)\u001b[0m \u001b[0;32mis\u001b[0m \u001b[0;32mNone\u001b[0m\u001b[0;34m)\u001b[0m\u001b[0;34m\u001b[0m\u001b[0;34m\u001b[0m\u001b[0m\n\u001b[1;32m      4\u001b[0m \u001b[0;32massert\u001b[0m\u001b[0;34m(\u001b[0m\u001b[0mmemoized_coin_game\u001b[0m\u001b[0;34m(\u001b[0m\u001b[0;34m[\u001b[0m\u001b[0;34m]\u001b[0m\u001b[0;34m)\u001b[0m \u001b[0;34m==\u001b[0m \u001b[0;36m0\u001b[0m\u001b[0;34m)\u001b[0m\u001b[0;34m\u001b[0m\u001b[0;34m\u001b[0m\u001b[0m\n",
      "\u001b[0;32m<ipython-input-6-a90cdc9a9f42>\u001b[0m in \u001b[0;36mmemoized_coin_game\u001b[0;34m(A, arr)\u001b[0m\n\u001b[1;32m     49\u001b[0m                         \u001b[0;32mif\u001b[0m \u001b[0marr\u001b[0m\u001b[0;34m[\u001b[0m\u001b[0mi\u001b[0m\u001b[0;34m]\u001b[0m\u001b[0;34m[\u001b[0m\u001b[0mi\u001b[0m\u001b[0;34m+\u001b[0m\u001b[0mn\u001b[0m\u001b[0;34m]\u001b[0m\u001b[0;34m[\u001b[0m\u001b[0;36m0\u001b[0m\u001b[0;34m]\u001b[0m \u001b[0;34m==\u001b[0m \u001b[0mA\u001b[0m\u001b[0;34m[\u001b[0m\u001b[0mi\u001b[0m\u001b[0;34m+\u001b[0m\u001b[0mn\u001b[0m\u001b[0;34m]\u001b[0m \u001b[0;34m+\u001b[0m \u001b[0marr\u001b[0m\u001b[0;34m[\u001b[0m\u001b[0mi\u001b[0m\u001b[0;34m+\u001b[0m\u001b[0;36m1\u001b[0m\u001b[0;34m]\u001b[0m\u001b[0;34m[\u001b[0m\u001b[0mi\u001b[0m\u001b[0;34m+\u001b[0m\u001b[0mn\u001b[0m\u001b[0;34m]\u001b[0m\u001b[0;34m[\u001b[0m\u001b[0;36m0\u001b[0m\u001b[0;34m]\u001b[0m\u001b[0;34m:\u001b[0m\u001b[0;34m\u001b[0m\u001b[0;34m\u001b[0m\u001b[0m\n\u001b[1;32m     50\u001b[0m                             \u001b[0marr\u001b[0m\u001b[0;34m[\u001b[0m\u001b[0mi\u001b[0m\u001b[0;34m]\u001b[0m\u001b[0;34m[\u001b[0m\u001b[0mi\u001b[0m\u001b[0;34m+\u001b[0m\u001b[0mn\u001b[0m\u001b[0;34m]\u001b[0m\u001b[0;34m[\u001b[0m\u001b[0;36m1\u001b[0m\u001b[0;34m]\u001b[0m \u001b[0;34m=\u001b[0m \u001b[0marr\u001b[0m\u001b[0;34m[\u001b[0m\u001b[0mi\u001b[0m\u001b[0;34m+\u001b[0m\u001b[0;36m1\u001b[0m\u001b[0;34m]\u001b[0m\u001b[0;34m[\u001b[0m\u001b[0mi\u001b[0m\u001b[0;34m+\u001b[0m\u001b[0mn\u001b[0m\u001b[0;34m]\u001b[0m\u001b[0;34m[\u001b[0m\u001b[0;36m1\u001b[0m\u001b[0;34m]\u001b[0m\u001b[0;34m\u001b[0m\u001b[0;34m\u001b[0m\u001b[0m\n\u001b[0;32m---> 51\u001b[0;31m                             \u001b[0marr\u001b[0m\u001b[0;34m[\u001b[0m\u001b[0mi\u001b[0m\u001b[0;34m+\u001b[0m\u001b[0;36m1\u001b[0m\u001b[0;34m]\u001b[0m\u001b[0;34m[\u001b[0m\u001b[0mi\u001b[0m\u001b[0;34m+\u001b[0m\u001b[0mn\u001b[0m\u001b[0;34m]\u001b[0m\u001b[0;34m[\u001b[0m\u001b[0;36m1\u001b[0m\u001b[0;34m]\u001b[0m\u001b[0;34m.\u001b[0m\u001b[0mappend\u001b[0m\u001b[0;34m(\u001b[0m\u001b[0mA\u001b[0m\u001b[0;34m[\u001b[0m\u001b[0mi\u001b[0m\u001b[0;34m+\u001b[0m\u001b[0mn\u001b[0m\u001b[0;34m]\u001b[0m\u001b[0;34m)\u001b[0m\u001b[0;34m\u001b[0m\u001b[0;34m\u001b[0m\u001b[0m\n\u001b[0m\u001b[1;32m     52\u001b[0m                         \u001b[0;32melse\u001b[0m\u001b[0;34m:\u001b[0m\u001b[0;34m\u001b[0m\u001b[0;34m\u001b[0m\u001b[0m\n\u001b[1;32m     53\u001b[0m                             \u001b[0marr\u001b[0m\u001b[0;34m[\u001b[0m\u001b[0mi\u001b[0m\u001b[0;34m]\u001b[0m\u001b[0;34m[\u001b[0m\u001b[0mi\u001b[0m\u001b[0;34m+\u001b[0m\u001b[0mn\u001b[0m\u001b[0;34m]\u001b[0m\u001b[0;34m[\u001b[0m\u001b[0;36m1\u001b[0m\u001b[0;34m]\u001b[0m \u001b[0;34m=\u001b[0m \u001b[0mA\u001b[0m\u001b[0;34m[\u001b[0m\u001b[0mi\u001b[0m\u001b[0;34m+\u001b[0m\u001b[0mn\u001b[0m\u001b[0;34m]\u001b[0m\u001b[0;34m\u001b[0m\u001b[0;34m\u001b[0m\u001b[0m\n",
      "\u001b[0;31mAttributeError\u001b[0m: 'int' object has no attribute 'append'"
     ]
    }
   ],
   "source": [
    "import numpy as np\n",
    "assert(memoized_coin_game([2, 10, 1, 5]) == 15)\n",
    "assert(memoized_coin_game([2, 10, 1, 5, 5]) is None)\n",
    "assert(memoized_coin_game([]) == 0)"
   ]
  },
  {
   "cell_type": "code",
   "execution_count": 8,
   "metadata": {
    "collapsed": false
   },
   "outputs": [
    {
     "ename": "AttributeError",
     "evalue": "'int' object has no attribute 'append'",
     "output_type": "error",
     "traceback": [
      "\u001b[0;31m---------------------------------------------------------------------------\u001b[0m",
      "\u001b[0;31mAttributeError\u001b[0m                            Traceback (most recent call last)",
      "\u001b[0;32m<ipython-input-8-4315a1356d2c>\u001b[0m in \u001b[0;36m<module>\u001b[0;34m\u001b[0m\n\u001b[0;32m----> 1\u001b[0;31m \u001b[0mmemoized_coin_game\u001b[0m\u001b[0;34m(\u001b[0m\u001b[0;34m[\u001b[0m\u001b[0;36m2\u001b[0m\u001b[0;34m,\u001b[0m \u001b[0;36m10\u001b[0m\u001b[0;34m,\u001b[0m \u001b[0;36m1\u001b[0m\u001b[0;34m,\u001b[0m \u001b[0;36m5\u001b[0m\u001b[0;34m]\u001b[0m\u001b[0;34m)\u001b[0m\u001b[0;34m\u001b[0m\u001b[0;34m\u001b[0m\u001b[0m\n\u001b[0m",
      "\u001b[0;32m<ipython-input-6-a90cdc9a9f42>\u001b[0m in \u001b[0;36mmemoized_coin_game\u001b[0;34m(A, arr)\u001b[0m\n\u001b[1;32m     49\u001b[0m                         \u001b[0;32mif\u001b[0m \u001b[0marr\u001b[0m\u001b[0;34m[\u001b[0m\u001b[0mi\u001b[0m\u001b[0;34m]\u001b[0m\u001b[0;34m[\u001b[0m\u001b[0mi\u001b[0m\u001b[0;34m+\u001b[0m\u001b[0mn\u001b[0m\u001b[0;34m]\u001b[0m\u001b[0;34m[\u001b[0m\u001b[0;36m0\u001b[0m\u001b[0;34m]\u001b[0m \u001b[0;34m==\u001b[0m \u001b[0mA\u001b[0m\u001b[0;34m[\u001b[0m\u001b[0mi\u001b[0m\u001b[0;34m+\u001b[0m\u001b[0mn\u001b[0m\u001b[0;34m]\u001b[0m \u001b[0;34m+\u001b[0m \u001b[0marr\u001b[0m\u001b[0;34m[\u001b[0m\u001b[0mi\u001b[0m\u001b[0;34m+\u001b[0m\u001b[0;36m1\u001b[0m\u001b[0;34m]\u001b[0m\u001b[0;34m[\u001b[0m\u001b[0mi\u001b[0m\u001b[0;34m+\u001b[0m\u001b[0mn\u001b[0m\u001b[0;34m]\u001b[0m\u001b[0;34m[\u001b[0m\u001b[0;36m0\u001b[0m\u001b[0;34m]\u001b[0m\u001b[0;34m:\u001b[0m\u001b[0;34m\u001b[0m\u001b[0;34m\u001b[0m\u001b[0m\n\u001b[1;32m     50\u001b[0m                             \u001b[0marr\u001b[0m\u001b[0;34m[\u001b[0m\u001b[0mi\u001b[0m\u001b[0;34m]\u001b[0m\u001b[0;34m[\u001b[0m\u001b[0mi\u001b[0m\u001b[0;34m+\u001b[0m\u001b[0mn\u001b[0m\u001b[0;34m]\u001b[0m\u001b[0;34m[\u001b[0m\u001b[0;36m1\u001b[0m\u001b[0;34m]\u001b[0m \u001b[0;34m=\u001b[0m \u001b[0marr\u001b[0m\u001b[0;34m[\u001b[0m\u001b[0mi\u001b[0m\u001b[0;34m+\u001b[0m\u001b[0;36m1\u001b[0m\u001b[0;34m]\u001b[0m\u001b[0;34m[\u001b[0m\u001b[0mi\u001b[0m\u001b[0;34m+\u001b[0m\u001b[0mn\u001b[0m\u001b[0;34m]\u001b[0m\u001b[0;34m[\u001b[0m\u001b[0;36m1\u001b[0m\u001b[0;34m]\u001b[0m\u001b[0;34m\u001b[0m\u001b[0;34m\u001b[0m\u001b[0m\n\u001b[0;32m---> 51\u001b[0;31m                             \u001b[0marr\u001b[0m\u001b[0;34m[\u001b[0m\u001b[0mi\u001b[0m\u001b[0;34m+\u001b[0m\u001b[0;36m1\u001b[0m\u001b[0;34m]\u001b[0m\u001b[0;34m[\u001b[0m\u001b[0mi\u001b[0m\u001b[0;34m+\u001b[0m\u001b[0mn\u001b[0m\u001b[0;34m]\u001b[0m\u001b[0;34m[\u001b[0m\u001b[0;36m1\u001b[0m\u001b[0;34m]\u001b[0m\u001b[0;34m.\u001b[0m\u001b[0mappend\u001b[0m\u001b[0;34m(\u001b[0m\u001b[0mA\u001b[0m\u001b[0;34m[\u001b[0m\u001b[0mi\u001b[0m\u001b[0;34m+\u001b[0m\u001b[0mn\u001b[0m\u001b[0;34m]\u001b[0m\u001b[0;34m)\u001b[0m\u001b[0;34m\u001b[0m\u001b[0;34m\u001b[0m\u001b[0m\n\u001b[0m\u001b[1;32m     52\u001b[0m                         \u001b[0;32melse\u001b[0m\u001b[0;34m:\u001b[0m\u001b[0;34m\u001b[0m\u001b[0;34m\u001b[0m\u001b[0m\n\u001b[1;32m     53\u001b[0m                             \u001b[0marr\u001b[0m\u001b[0;34m[\u001b[0m\u001b[0mi\u001b[0m\u001b[0;34m]\u001b[0m\u001b[0;34m[\u001b[0m\u001b[0mi\u001b[0m\u001b[0;34m+\u001b[0m\u001b[0mn\u001b[0m\u001b[0;34m]\u001b[0m\u001b[0;34m[\u001b[0m\u001b[0;36m1\u001b[0m\u001b[0;34m]\u001b[0m \u001b[0;34m=\u001b[0m \u001b[0mA\u001b[0m\u001b[0;34m[\u001b[0m\u001b[0mi\u001b[0m\u001b[0;34m+\u001b[0m\u001b[0mn\u001b[0m\u001b[0;34m]\u001b[0m\u001b[0;34m\u001b[0m\u001b[0;34m\u001b[0m\u001b[0m\n",
      "\u001b[0;31mAttributeError\u001b[0m: 'int' object has no attribute 'append'"
     ]
    }
   ],
   "source": [
    "memoized_coin_game([2, 10, 1, 5])"
   ]
  },
  {
   "cell_type": "markdown",
   "metadata": {
    "collapsed": false
   },
   "source": [
    "<span class=\"minerva-question\" style='background-color:#f0ad4e;padding: 5px 20px 5px 20px;line-height:30px;color:white;font-weight: bold; border-radius: 25px'>Question 3</span>\n",
    "\n",
    "Paste in your Python code for solving the game using a bottom-up strategy, and compare each other’s solutions. Help fix any bugs and return to class ready to explain all aspects of the solution."
   ]
  },
  {
   "cell_type": "code",
   "execution_count": 0,
   "metadata": {
    "collapsed": false
   },
   "outputs": [
   ],
   "source": [
   ]
  },
  {
   "cell_type": "markdown",
   "metadata": {
    "collapsed": false
   },
   "source": [
    " <span class=\"minerva-question\" style='background-color:#f0ad4e;padding: 5px 20px 5px 20px;line-height:30px;color:white;font-weight: bold; border-radius: 25px'>Question 4</span>\n",
    "\n",
    "What is the time complexity of the dynamic programming solution? Explain."
   ]
  },
  {
   "cell_type": "code",
   "execution_count": 0,
   "metadata": {
    "collapsed": false
   },
   "outputs": [
   ],
   "source": [
   ]
  },
  {
   "cell_type": "markdown",
   "metadata": {
    "collapsed": false
   },
   "source": [
    " <span class=\"minerva-question\" style='background-color:#f0ad4e;padding: 5px 20px 5px 20px;line-height:30px;color:white;font-weight: bold; border-radius: 25px'>Question 5</span>\n",
    "\n",
    "What would be the time complexity of a brute force solution? Explain."
   ]
  },
  {
   "cell_type": "code",
   "execution_count": 0,
   "metadata": {
    "collapsed": false
   },
   "outputs": [
   ],
   "source": [
   ]
  }
 ],
 "metadata": {
  "kernelspec": {
   "display_name": "Python 3 (system-wide)",
   "language": "python",
   "metadata": {
    "cocalc": {
     "description": "Python 3 programming language",
     "priority": 100,
     "url": "https://www.python.org/"
    }
   },
   "name": "python3"
  },
  "language_info": {
   "codemirror_mode": {
    "name": "ipython",
    "version": 3
   },
   "file_extension": ".py",
   "mimetype": "text/x-python",
   "name": "python",
   "nbconvert_exporter": "python",
   "pygments_lexer": "ipython3",
   "version": "3.6.9"
  }
 },
 "nbformat": 4,
 "nbformat_minor": 4
}
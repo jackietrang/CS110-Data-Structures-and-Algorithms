{
 "cells": [
  {
   "cell_type": "markdown",
   "metadata": {
    "collapsed": false
   },
   "source": [
    "<div class=\"panel panel-warning\">\n",
    "  <div class=\"panel-heading\">\n",
    "    <h3 class=\"panel-title\">Game Strategy Breakout</h3>\n",
    "  </div>\n",
    "  <div class=\"panel-body\">\n",
    "Review the pre-class work money game problem and answer the questions below.  </div>\n",
    "</div>"
   ]
  },
  {
   "cell_type": "markdown",
   "metadata": {
    "collapsed": false
   },
   "source": [
    "\n",
    "Consider a row of $n$ coins of values $v(1) ... v(n)$, where $n$ is even. We play a game against an opponent by alternating turns. In each turn, a player selects either the first or last coin from the row, removes it from the row permanently, and receives the value of the coin. Determine the maximum possible amount of money we can definitely win if we move first.\n",
    "\n",
    "For example, consider the game:\n",
    "```\n",
    "$2, $10, $1, $5\n",
    "```\n",
    "\n",
    "By moving first and playing optimally one can be guaranteed of \\$15. The first move is to take \\$5. This forces your opponent to take either \\$2 or \\$1, and then allows you to take \\$10."
   ]
  },
  {
   "cell_type": "markdown",
   "metadata": {
    "collapsed": false
   },
   "source": [
    "<span class=\"minerva-question\" style='background-color:#f0ad4e;padding: 5px 20px 5px 20px;line-height:30px;color:white;font-weight: bold; border-radius: 25px'>Question 1</span>\n",
    "\n",
    "Paste in your Python code for solving the game using a bottom-up strategy, and compare each other’s solutions. Help fix any bugs and return to class ready to explain all aspects of the solution."
   ]
  },
  {
   "cell_type": "code",
   "execution_count": 5,
   "metadata": {
    "collapsed": false
   },
   "outputs": [
   ],
   "source": [
    "#Jackie\n",
    "def bottom_up_coin_game1(A):\n",
    "    n = len(A)\n",
    "    \n",
    "    #Create a table to store solutions of subproblems\n",
    "    table = [0 for i in range(n)\n",
    "               for i in range(n)]\n",
    "    \n",
    "    # Base case: no element in the array A\n",
    "    if n == 0:\n",
    "        return 0\n",
    "    ans = 0\n",
    "    \n",
    "    if(len(A)%2 == 1): \n",
    "        return None\n",
    "    \n",
    "    for k in range(n): #loop through A\n",
    "        for j in range(k, n): #j is the index for the last element\n",
    "            i = j -k #index of i in relation with j and k\n",
    "    \n",
    "    if i == j:\n",
    "        return(arr[i])\n",
    "    # Base case: array has 2 elements \n",
    "    if j == i+1:\n",
    "        return(max(arr[i], arr[j]))\n",
    "    # Recursive loop: 2 cases that we must choose from \n",
    "    return max(A[i] + min(coinGame(A, i+2, j), \n",
    "                            coinGame(A, i+1, j-1)), \n",
    "               A[j] + min(coinGame(A, i+1, j-1), \n",
    "                            coinGame(A, i, j-2)))"
   ]
  },
  {
   "cell_type": "code",
   "execution_count": 7,
   "metadata": {
    "collapsed": false
   },
   "outputs": [
   ],
   "source": [
    "# Mahmud\n",
    "def bottom_up_coin_game2(A):\n",
    "\n",
    "    # when it is odd, return None\n",
    "    if(len(A)%2 == 1): \n",
    "        return None\n",
    "    \n",
    "    else:\n",
    "        if (len(A) == 2):\n",
    "            return max(A[0], A[1])\n",
    "        elif(len(A) == 0):\n",
    "            return 0\n",
    "        else:\n",
    "            choice_1 = A[0] + min(bottom_up_coin_game(A[2:]), bottom_up_coin_game(A[1:-1])) \n",
    "            choice_2 = A[-1] + min(bottom_up_coin_game(A[:-2]), bottom_up_coin_game(A[1:-1]))\n",
    "            return max(choice_1, choice_2)"
   ]
  },
  {
   "cell_type": "code",
   "execution_count": 9,
   "metadata": {
    "collapsed": false
   },
   "outputs": [
   ],
   "source": [
    "bottom_up_coin_game2([2, 10, 1, 5, 5]) "
   ]
  },
  {
   "cell_type": "code",
   "execution_count": 0,
   "metadata": {
    "collapsed": false
   },
   "outputs": [
   ],
   "source": [
    "\n",
    "\n",
    "\n",
    "# Mahmud\n",
    "def bottom_up_coin_game2(A):\n",
    "\n",
    "    # when it is odd, return None\n",
    "    if(len(A)%2 == 1): \n",
    "        return None\n",
    "    \n",
    "    else:\n",
    "        if (len(A) == 2):\n",
    "            return max(A[0], A[1])\n",
    "        elif(len(A) == 0):\n",
    "            return 0\n",
    "        else:\n",
    "            choice_1 = A[0] + min(bottom_up_coin_game(A[2:]), bottom_up_coin_game(A[1:-1])) \n",
    "            choice_2 = A[-1] + min(bottom_up_coin_game(A[:-2]), bottom_up_coin_game(A[1:-1]))\n",
    "            return max(choice_1, choice_2)\n",
    "\n",
    "# sadid\n",
    "\n",
    "####\n",
    "\n",
    "\n",
    "def bottom_up_coin_game3(A):\n",
    "    \"\"\"\n",
    "    Returns the maximum possible amount of money the first-move player can win,\n",
    "    given an array of coin values. The function solves this using a bottom-up \n",
    "    approach.\n",
    "    \n",
    "    Inputs:\n",
    "    - A: list of floats, values of the coins, of even length. \n",
    "    \n",
    "    Outputs:\n",
    "    - max_val: float, maximum possible amount of money that can be won by the first \n",
    "    player. max_val is None when the length of list A is odd.\n",
    "    \"\"\"\n",
    "    \n",
    "\n",
    "    \n",
    "    if len(A) % 2 != 0: \n",
    "        return None\n",
    "\n",
    "    if not A: \n",
    "        return 0\n",
    "    \n",
    "    \n",
    "            \n",
    "    b = len(A) - 1\n",
    "    a = 0\n",
    "    \n",
    "    table = [[0 for a in range(len(A))] \n",
    "                for a in range(len(A))] \n",
    "\n",
    "    \n",
    "\n",
    "    for the_gap in range(len(A)): \n",
    "        \n",
    "        for j in range(the_gap, len(A)): \n",
    "            i = j - the_gap \n",
    "            \n",
    "\n",
    "            z = 0\n",
    "            #c(i, j-2) represented as x\n",
    "            if(i <= (j - 2)): \n",
    "                z = table[i][j - 2] \n",
    "\n",
    "            y = 0\n",
    "            #c(i+1, j-1) represented as y\n",
    "            if((i + 1) <= (j - 1)): \n",
    "                y = table[i + 1][j - 1] \n",
    "\n",
    "            \n",
    "            \n",
    "            x = 0\n",
    "            #c(i+2, j) represented as x\n",
    "            if((i + 2) <= j): \n",
    "                x = table[i + 2][j]\n",
    "                         \n",
    "                \n",
    "            table[i][j] = max(A[j] + min(y, z), A[i] + min(x, y))\n",
    "            alpha = table[0][len(A) - 1] \n",
    "\n",
    "    return alpha"
   ]
  },
  {
   "cell_type": "markdown",
   "metadata": {
    "collapsed": false
   },
   "source": [
    "<span class=\"minerva-question\" style='background-color:#f0ad4e;padding: 5px 20px 5px 20px;line-height:30px;color:white;font-weight: bold; border-radius: 25px'>Question 2</span>\n",
    "\n",
    "Work together to write a memoized solution to the currency trading problem. Write your Python code below."
   ]
  },
  {
   "cell_type": "markdown",
   "metadata": {
    "collapsed": false
   },
   "source": [
    "**Memoization:**\n",
    "\n",
    "- Have a list of currency from 1, 2, ..., n\n",
    "- Exchange $d$ units of currency number 1 with number 1, 2,..., n\n",
    "- Store the results of exchange to a separate array value\n",
    "- If there is a currency $m$ between $i$ and $j$ that makes better change value, we update the 'value' array.\n",
    "- The final output is the optimal exchange value at currency $n$ that we want to exchange.\n",
    "\n",
    "\n"
   ]
  },
  {
   "cell_type": "code",
   "execution_count": 0,
   "metadata": {
    "collapsed": false
   },
   "outputs": [
   ],
   "source": [
    "def currency_topdown(n):\n",
    "    for i in range(n):\n",
    "        ans = max(ans, price[i]+)\n",
    "\n"
   ]
  },
  {
   "cell_type": "markdown",
   "metadata": {
    "collapsed": false
   },
   "source": [
    "<span class=\"minerva-question\" style='background-color:#f0ad4e;padding: 5px 20px 5px 20px;line-height:30px;color:white;font-weight: bold; border-radius: 25px'>Question 3</span>\n",
    "\n",
    "Paste in your Python code for solving the game using a bottom-up strategy, and compare each other’s solutions. Help fix any bugs and return to class ready to explain all aspects of the solution."
   ]
  },
  {
   "cell_type": "code",
   "execution_count": 0,
   "metadata": {
    "collapsed": false
   },
   "outputs": [
   ],
   "source": [
   ]
  },
  {
   "cell_type": "markdown",
   "metadata": {
    "collapsed": false
   },
   "source": [
    " <span class=\"minerva-question\" style='background-color:#f0ad4e;padding: 5px 20px 5px 20px;line-height:30px;color:white;font-weight: bold; border-radius: 25px'>Question 4</span>\n",
    "\n",
    "What is the time complexity of the dynamic programming solution? Explain."
   ]
  },
  {
   "cell_type": "code",
   "execution_count": 0,
   "metadata": {
    "collapsed": false
   },
   "outputs": [
   ],
   "source": [
   ]
  },
  {
   "cell_type": "markdown",
   "metadata": {
    "collapsed": false
   },
   "source": [
    " <span class=\"minerva-question\" style='background-color:#f0ad4e;padding: 5px 20px 5px 20px;line-height:30px;color:white;font-weight: bold; border-radius: 25px'>Question 5</span>\n",
    "\n",
    "What would be the time complexity of a brute force solution? Explain."
   ]
  },
  {
   "cell_type": "code",
   "execution_count": 0,
   "metadata": {
    "collapsed": false
   },
   "outputs": [
   ],
   "source": [
   ]
  }
 ],
 "metadata": {
  "kernelspec": {
   "display_name": "Python 3 (system-wide)",
   "language": "python",
   "metadata": {
    "cocalc": {
     "description": "Python 3 programming language",
     "priority": 100,
     "url": "https://www.python.org/"
    }
   },
   "name": "python3"
  },
  "language_info": {
   "codemirror_mode": {
    "name": "ipython",
    "version": 3
   },
   "file_extension": ".py",
   "mimetype": "text/x-python",
   "name": "python",
   "nbconvert_exporter": "python",
   "pygments_lexer": "ipython3",
   "version": "3.6.9"
  }
 },
 "nbformat": 4,
 "nbformat_minor": 4
}
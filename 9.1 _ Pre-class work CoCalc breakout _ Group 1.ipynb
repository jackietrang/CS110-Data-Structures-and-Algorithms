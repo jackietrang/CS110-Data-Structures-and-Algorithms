{
 "cells": [
  {
   "cell_type": "markdown",
   "metadata": {
    "collapsed": false
   },
   "source": [
    "<div class=\"panel panel-success\">\n",
    "  <div class=\"panel-heading\">\n",
    "    <h3 class=\"panel-title\">BREAKOUT INSTRUCTIONS</h3>\n",
    "  </div> \n",
    "  <div class=\"panel-body\">\n",
    "\n",
    "There are two parts to this long breakout:\n",
    "- In part A you will debrief and debug the code from your Pre-class work with each other. \n",
    "- In part B, you will analyze the figures generated in the final part of your Pre-class work.  </div>\n",
    "</div>"
   ]
  },
  {
   "cell_type": "markdown",
   "metadata": {
    "collapsed": false
   },
   "source": [
    "<blockquote class=\"alert-success\">\n",
    "     Part A\n",
    "    </blockquote>"
   ]
  },
  {
   "cell_type": "markdown",
   "metadata": {
    "collapsed": false
   },
   "source": [
    "<span class='minerva-question' style='background-color:#5cb85c;padding: 5px 20px 5px 20px;line-height:30px;color:white;font-weight: bold; border-radius: 25px'>Question 1</span>\n",
    "\n",
    "Everyone needs to paste their code for the height function (and average comparisons function if needed) below."
   ]
  },
  {
   "cell_type": "code",
   "execution_count": 6,
   "metadata": {
    "collapsed": false
   },
   "outputs": [
   ],
   "source": [
    "\n",
    "## Binary Search Tree\n",
    "##\n",
    "class Node:\n",
    "    def __init__(self, val):\n",
    "        self.l_child = None\n",
    "        self.r_child = None\n",
    "        self.parent = None\n",
    "        self.data = val\n",
    "\n",
    "    def insert(self, node):\n",
    "        \"\"\"inserts a node into a *non-empty* tree rooted at the node, returns\n",
    "        the root\"\"\"\n",
    "        if self.data > node.data:\n",
    "            if self.l_child is None:\n",
    "                self.l_child = node\n",
    "                node.parent = self\n",
    "            else:\n",
    "                self.l_child.insert(node)\n",
    "        else:\n",
    "            if self.r_child is None:\n",
    "                self.r_child = node\n",
    "                node.parent = self\n",
    "            else:\n",
    "                self.r_child.insert(node)\n",
    "        return self\n",
    "    \n",
    "    def minimum(self):\n",
    "        node = self\n",
    "        while node.l_child != None:\n",
    "            node = node.l_child\n",
    "        return node\n",
    "\n",
    "    def search_data(self, value):\n",
    "        \"\"\"searches a *non-empty* tree rooted at the node for a node with\n",
    "        data = value, returns the value if found, None otherwise\"\"\"\n",
    "        node = self.search(value)\n",
    "        if node:\n",
    "            return node.data\n",
    "        else:\n",
    "            return node\n",
    "        \n",
    "    def to_string(self): \n",
    "        print('self.data', self.data)\n",
    "        root=self\n",
    "        if not root: \n",
    "            return 'Nil'\n",
    "        else: \n",
    "            r = root.r_child.to_string() if root.r_child else 'Nil'\n",
    "            l = root.l_child.to_string() if root.l_child else 'Nil'\n",
    "        return 'Node(' + str(root.data) + ' L: ' + l + ' R: ' + r + ')'\n",
    "    \n",
    "    \n",
    "    # YOUR CODE HERE\n",
    "    def search(self, value):\n",
    "        \n",
    "        #If theres no node left\n",
    "        if self == None or value == self.data:\n",
    "            return self\n",
    "        \n",
    "        #if value is smaller on left side and not empty\n",
    "        if value < self.data and self.l_child != None:\n",
    "            return self.l_child.search(value)\n",
    "        #else value is on right side and right side is not empty\n",
    "        else:\n",
    "            if self.r_child != None:\n",
    "                return self.r_child.search(value)\n",
    "        \n",
    "        #return None if both sides are None\n",
    "        return None\n",
    "\n",
    "    def delete(self, value):\n",
    "        \n",
    "\n",
    "        if self is None:\n",
    "            return self\n",
    "        \n",
    "        #if value is on the left side\n",
    "        if value < self.data:\n",
    "            self.l_child = self.l_child.delete(value)\n",
    "        \n",
    "        #if value is on the right side\n",
    "        elif (value > self.data):\n",
    "            self.r_child = self.r_child.delete(value)\n",
    "        \n",
    "        #else value is found\n",
    "        else:\n",
    "            #if we only have right side\n",
    "            #move the right node to the parent\n",
    "            if self.r_child is None and self.l_child is None:\n",
    "                self = None\n",
    "                return self\n",
    "            \n",
    "            elif self.l_child is None:\n",
    "                choose  = self.r_child\n",
    "                self = None\n",
    "                return choose\n",
    "            #if we only have left side\n",
    "            #move the left node to parent\n",
    "            elif self.r_child is None:\n",
    "                choose = self.l_child\n",
    "                self = None\n",
    "                return choose\n",
    "            \n",
    "            #Find the smallest\n",
    "            \n",
    "            choose = self.r_child.minimum()\n",
    "            \n",
    "            self.data = choose.data\n",
    "            \n",
    "            self.right = self.r_child.delete(choose.data)\n",
    "            \n",
    "        return self\n",
    "    \n",
    "    #print the inorder\n",
    "    \n",
    "\n",
    "    def back(self, order):     #create path list\n",
    "        if self:\n",
    "            \n",
    "            #if still have left side, go down to the left\n",
    "            if self.l_child != None:\n",
    "                self.l_child.traversal(order)\n",
    "    \n",
    "            order.append(self.data)\n",
    "            \n",
    "            #if still have right side, go down to the right\n",
    "            if self.r_child != None:\n",
    "                self.r_child.traversal(order)\n",
    "        #return list\n",
    "        return order\n",
    "    \n",
    "    def inorder(self):\n",
    "        #create a list\n",
    "        order = []\n",
    "        \n",
    "        #run function\n",
    "        self.back(order)\n",
    "        \n",
    "        #return list\n",
    "        return order"
   ]
  },
  {
   "cell_type": "code",
   "execution_count": 31,
   "metadata": {
    "collapsed": false
   },
   "outputs": [
   ],
   "source": [
    "## Binary Search Tree\n",
    "##\n",
    "class Node:\n",
    "    def __init__(self, val):\n",
    "        self.l_child = None\n",
    "        self.r_child = None\n",
    "        self.parent = None\n",
    "        self.data = val\n",
    "\n",
    "    def insert(self, node):\n",
    "        \"\"\"inserts a node into a *non-empty* tree rooted at the node, returns\n",
    "        the root\"\"\"\n",
    "        if self.data > node.data:\n",
    "            if self.l_child is None:\n",
    "                self.l_child = node\n",
    "                node.parent = self\n",
    "            else:\n",
    "                self.l_child.insert(node)\n",
    "        else:\n",
    "            if self.r_child is None:\n",
    "                self.r_child = node\n",
    "                node.parent = self\n",
    "            else:\n",
    "                self.r_child.insert(node)\n",
    "        return self\n",
    "    \n",
    "    def minimum(self):\n",
    "        node = self\n",
    "        while node.l_child != None:\n",
    "            node = node.l_child\n",
    "        return node\n",
    "\n",
    "    def search_data(self, value):\n",
    "        \"\"\"searches a *non-empty* tree rooted at the node for a node with\n",
    "        data = value, returns the value if found, None otherwise\"\"\"\n",
    "        node = self.search(value)\n",
    "        if node:\n",
    "            return node.data\n",
    "        else:\n",
    "            return node\n",
    "        \n",
    "    def to_string(self): \n",
    "        print('self.data', self.data)\n",
    "        root=self\n",
    "        if not root: \n",
    "            return 'Nil'\n",
    "        else: \n",
    "            r = root.r_child.to_string() if root.r_child else 'Nil'\n",
    "            l = root.l_child.to_string() if root.l_child else 'Nil'\n",
    "        return 'Node(' + str(root.data) + ' L: ' + l + ' R: ' + r + ')'\n",
    "    \n",
    "    def search(self, value):\n",
    "        if value == None or value == self.data:\n",
    "            return self\n",
    "        if value < self.data:\n",
    "            if self.l_child == None:\n",
    "                return False\n",
    "            return self.l_child.search(value)\n",
    "        else:\n",
    "            if self.r_child == None:\n",
    "                return False\n",
    "            return self.r_child.search(value)\n",
    "    \n",
    "    def transplant(self, u, v):\n",
    "        if u.parent == None:\n",
    "            self.parent = v\n",
    "        elif u.parent.l_child == u:\n",
    "            u.parent.l_child = v\n",
    "        else:\n",
    "            u.parent.r_child = v\n",
    "            \n",
    "        if v != None:\n",
    "            v.parent = u.parent\n",
    "    \n",
    "    def delete(self, value):       \n",
    "        z = self.search(value)\n",
    "        if z.l_child == None:\n",
    "            self.transplant(z, z.r_child)\n",
    "        elif z.r_child == None:\n",
    "            self.transplant(z, z.l_child)\n",
    "        else:\n",
    "            y = z.r_child.minimum()\n",
    "            if y.parent != value:\n",
    "                self.transplant(y, y.r_child)\n",
    "                y.r_child = z.r_child\n",
    "                y.r_child.parent = y\n",
    "            self.transplant(z, y)\n",
    "            y.l_child = z.l_child\n",
    "            y.l_child.parent = y\n",
    "        \n",
    "    def inorder(self, value=None):\n",
    "        if value != None:\n",
    "            self.inorder(value.l_child)\n",
    "            print(x.value)\n",
    "            self.inorder(value.r_child)"
   ]
  },
  {
   "cell_type": "code",
   "execution_count": 47,
   "metadata": {
    "collapsed": false
   },
   "outputs": [
   ],
   "source": [
    "#Cameron\n",
    "def depth(root, node):\n",
    "    \"\"\"finds the depth of the node in a BST. depth of root is 0.\n",
    "\n",
    "    Input:\n",
    "    - root: a node, the root of the BST\n",
    "    - node: a node to compute the depth of\n",
    "\n",
    "    Output:\n",
    "    - d: int, distance from node to root\"\"\"\n",
    "    d = 0\n",
    "    if node.parent == None: #if the node has no parent\n",
    "        return d\n",
    "    \n",
    "    \n",
    "    d = 1\n",
    "    #Keep moving up the tree\n",
    "    while node.parent != root:  #if the node as parent\n",
    "        if node.parent == None: #if the node has no parent\n",
    "            return d\n",
    "        d += 1\n",
    "        node = node.parent\n",
    "    \n",
    "    return d\n",
    "\n",
    "def avg_cmp(bst, n = 0):\n",
    "    \"\"\"Finds the average number of comparisons required \n",
    "    to search for a randomly chosen element of a standard BST. \n",
    "    \n",
    "    Input:\n",
    "    - bst: a Node, the root of the BST\n",
    "    \n",
    "    Output:\n",
    "    - n: float, average number of comparisons\"\"\"\n",
    "    global rootnode\n",
    "    global nodes\n",
    "    if bst.parent == None:\n",
    "        nodes = 1\n",
    "        rootnode = bst\n",
    "    \n",
    "    #If there exists a left child\n",
    "    if bst.l_child:\n",
    "        print(bst.l_child.data)\n",
    "        n += depth(rootnode, bst.l_child)\n",
    "        nodes += 1\n",
    "        avg_cmp(bst.l_child, n)\n",
    "        \n",
    "    #If there exists a right child\n",
    "    if bst.r_child:\n",
    "        print(bst.r_child.data)\n",
    "        n += depth(rootnode, bst.l_child)\n",
    "        nodes += 1\n",
    "        avg_cmp(bst.r_child, n)\n",
    "    \n",
    "    #Finds average\n",
    "    if bst.parent == None:\n",
    "        n = n / nodes\n",
    "        \n",
    "    return n"
   ]
  },
  {
   "cell_type": "code",
   "execution_count": 33,
   "metadata": {
    "collapsed": false
   },
   "outputs": [
   ],
   "source": [
    "def max_depth(bst, h=0):\n",
    "    \"\"\"Finds the maximum depth of node in a BST.\n",
    "    \n",
    "    Input:\n",
    "    - bst: a Node, the root of the BST\n",
    "    \n",
    "    Output:\n",
    "    - h: int, the maximum depth in a BST\"\"\"\n",
    "    \n",
    "    #If there exists a left child\n",
    "    if bst.l_child != None:\n",
    "        node = bst.l_child\n",
    "        h = max(h, depth(bst, node))\n",
    "        max_depth(node, h)\n",
    "        \n",
    "    #If there exists a right child\n",
    "    if bst.r_child != None:\n",
    "        node = bst.r_child\n",
    "        h = max(h, depth(bst, node))\n",
    "        max_depth(node, h)\n",
    "    \n",
    "    return h"
   ]
  },
  {
   "cell_type": "code",
   "execution_count": 9,
   "metadata": {
    "collapsed": false
   },
   "outputs": [
    {
     "name": "stdout",
     "output_type": "stream",
     "text": [
      "0\n",
      "1\n",
      "2\n",
      "3\n",
      "4\n",
      "5\n",
      "6\n",
      "7\n",
      "8\n"
     ]
    }
   ],
   "source": [
    "import math\n",
    "# Testing code \n",
    "bst = None\n",
    "nodes = [Node(15), Node(6), Node(18), Node(3), Node(7), \n",
    "         Node(17), Node(20), Node(2), Node(4)]\n",
    "for node in nodes:\n",
    "    if not bst:\n",
    "        bst = node\n",
    "    else:\n",
    "        bst.insert(node)\n",
    "#         insert(bst, node)\n",
    "for i in range(len(nodes)):\n",
    "    print(i)\n",
    "    assert(depth(bst, nodes[i]) == int(math.log(i+1,2)))\n",
    "    "
   ]
  },
  {
   "cell_type": "code",
   "execution_count": 28,
   "metadata": {
    "collapsed": false
   },
   "outputs": [
   ],
   "source": [
    "#Jackie\n",
    "\n",
    "def depth(root, node):\n",
    "    \"\"\"finds the depth of the node in a BST. depth of root is 0.\n",
    "\n",
    "    Input:\n",
    "    - root: a node, the root of the BST\n",
    "    - node: a node to compute the depth of\n",
    "\n",
    "    Output:\n",
    "    - d: int, distance from node to root\"\"\"\n",
    "    #the depth of the tree \n",
    "    d = 0\n",
    "    \n",
    "    #when we have not found the value yet\n",
    "    while node != root.data:\n",
    "        \n",
    "        #print(root.data)\n",
    "        \n",
    "        \n",
    "        \n",
    "        #if node is in the left child and the left is not None\n",
    "        if node.data < root.data and root.l_child != None:\n",
    "            \n",
    "            #move to the left child node\n",
    "            root = root.l_child\n",
    "            \n",
    "        elif node.data == root.data:\n",
    "            return d\n",
    "        else:\n",
    "            \n",
    "            #if right child is not None\n",
    "            if root.r_child != None:\n",
    "                \n",
    "                #move to the right child node\n",
    "                root = root.r_child\n",
    "        #increase the depth\n",
    "        d += 1\n",
    "    \n",
    "    #return the depth\n",
    "    return d\n",
    "\n"
   ]
  },
  {
   "cell_type": "code",
   "execution_count": 0,
   "metadata": {
    "collapsed": false
   },
   "outputs": [
   ],
   "source": [
   ]
  },
  {
   "cell_type": "code",
   "execution_count": 29,
   "metadata": {
    "collapsed": false,
    "scrolled": true
   },
   "outputs": [
    {
     "name": "stdout",
     "output_type": "stream",
     "text": [
      "0\n",
      "1\n",
      "1\n",
      "2\n",
      "2\n",
      "2\n",
      "2\n",
      "3\n",
      "3\n"
     ]
    },
    {
     "data": {
      "text/plain": [
       "2"
      ]
     },
     "execution_count": 29,
     "metadata": {
     },
     "output_type": "execute_result"
    }
   ],
   "source": [
    "# Testing code \n",
    "import math\n",
    "bst = None\n",
    "nodes = [Node(15), Node(6), Node(18), Node(3), Node(7), \n",
    "         Node(17), Node(20), Node(2), Node(4)]\n",
    "for node in nodes:\n",
    "    if not bst: #If the root is none    \n",
    "        bst = node   #set the node (15) as the root\n",
    "  \n",
    "    else:\n",
    "        bst.insert(node)\n",
    "#         insert(bst, node)\n",
    "for i in range(len(nodes)):\n",
    "    print(depth(bst, nodes[i]))\n",
    "    assert(depth(bst, nodes[i]) == int(math.log(i+1,2)))\n",
    "\n",
    "depth(bst, nodes[6])"
   ]
  },
  {
   "cell_type": "code",
   "execution_count": 0,
   "metadata": {
    "collapsed": false
   },
   "outputs": [
   ],
   "source": [
   ]
  },
  {
   "cell_type": "markdown",
   "metadata": {
    "collapsed": false
   },
   "source": [
    "<span class='minerva-question' style='background-color:#5cb85c;padding: 5px 20px 5px 20px;line-height:30px;color:white;font-weight: bold; border-radius: 25px'>Question 2</span>\n",
    "\n",
    "Highlight any bugs that you are aware of in your own code. Now start to look at each other’s code.\n",
    "- Are there any particularly elegant solutions? \n",
    "- Are there any subtle bugs?\n",
    "- Decide on an interesting bug, or nearly-working code and fix it up collaboratively.\n",
    "\n",
    "Write below (and be prepared to give a brief presentation to the other groups if asked) a summary of the discussion you had with your group about the points above."
   ]
  },
  {
   "cell_type": "markdown",
   "metadata": {
    "collapsed": false
   },
   "source": [
    "We did this is in different ways - Jackie iterated down the bst, changing the root until it was the node. Cameron iterated up the list, changing the node until it was the root.\n",
    "\n",
    "One bug is an attempt to compare between object and an interger, we fix from node to node.data and this error is solved. Also, Jackie's code lacks a elif condition when the node.data == root.data"
   ]
  },
  {
   "cell_type": "markdown",
   "metadata": {
    "collapsed": false
   },
   "source": [
    "<blockquote class=\"alert-success\">\n",
    "     Part B\n",
    "    </blockquote>"
   ]
  },
  {
   "cell_type": "markdown",
   "metadata": {
    "collapsed": false
   },
   "source": [
    "<span class='minerva-question' style='background-color:#5cb85c;padding: 5px 20px 5px 20px;line-height:30px;color:white;font-weight: bold; border-radius: 25px'>Question 3</span>\n",
    "\n",
    "Everyone needs to paste their figures for the average- and worst-case depth of elements in the tree."
   ]
  },
  {
   "cell_type": "markdown",
   "metadata": {
    "collapsed": false
   },
   "source": [
    "Fixing avg_depth code"
   ]
  },
  {
   "cell_type": "code",
   "execution_count": 46,
   "metadata": {
    "collapsed": false
   },
   "outputs": [
    {
     "name": "stdout",
     "output_type": "stream",
     "text": [
      "Inserting the following node:  3\n",
      "Inserting the following node:  0\n",
      "Inserting the following node:  4\n",
      "Inserting the following node:  7\n",
      "Inserting the following node:  3\n",
      "Inserting the following node:  5\n",
      "Inserting the following node:  8\n",
      "Inserting the following node:  8\n",
      "Inserting the following node:  5\n",
      "Inserting the following node:  8\n",
      "<__main__.Node object at 0x7f307c59ce80>\n",
      "<__main__.Node object at 0x7f307c59c518>\n",
      "<__main__.Node object at 0x7f307c59c898>\n",
      "<__main__.Node object at 0x7f307c699278>\n",
      "<__main__.Node object at 0x7f307c623080>\n",
      "<__main__.Node object at 0x7f307c623390>\n"
     ]
    },
    {
     "ename": "AttributeError",
     "evalue": "'NoneType' object has no attribute 'parent'",
     "output_type": "error",
     "traceback": [
      "\u001b[0;31m---------------------------------------------------------------------------\u001b[0m",
      "\u001b[0;31mAttributeError\u001b[0m                            Traceback (most recent call last)",
      "\u001b[0;32m<ipython-input-46-3bcb726d2715>\u001b[0m in \u001b[0;36m<module>\u001b[0;34m\u001b[0m\n\u001b[1;32m      9\u001b[0m         \u001b[0mbst\u001b[0m\u001b[0;34m.\u001b[0m\u001b[0minsert\u001b[0m\u001b[0;34m(\u001b[0m\u001b[0mx\u001b[0m\u001b[0;34m)\u001b[0m\u001b[0;34m\u001b[0m\u001b[0;34m\u001b[0m\u001b[0m\n\u001b[1;32m     10\u001b[0m \u001b[0;34m\u001b[0m\u001b[0m\n\u001b[0;32m---> 11\u001b[0;31m \u001b[0mavg_cmp\u001b[0m\u001b[0;34m(\u001b[0m\u001b[0mbst\u001b[0m\u001b[0;34m)\u001b[0m \u001b[0;34m-\u001b[0m \u001b[0;36m1\u001b[0m\u001b[0;34m\u001b[0m\u001b[0;34m\u001b[0m\u001b[0m\n\u001b[0m",
      "\u001b[0;32m<ipython-input-45-0a1f3df6fffe>\u001b[0m in \u001b[0;36mavg_cmp\u001b[0;34m(bst, n)\u001b[0m\n\u001b[1;32m     44\u001b[0m         \u001b[0mn\u001b[0m \u001b[0;34m+=\u001b[0m \u001b[0mdepth\u001b[0m\u001b[0;34m(\u001b[0m\u001b[0mrootnode\u001b[0m\u001b[0;34m,\u001b[0m \u001b[0mbst\u001b[0m\u001b[0;34m.\u001b[0m\u001b[0ml_child\u001b[0m\u001b[0;34m)\u001b[0m\u001b[0;34m\u001b[0m\u001b[0;34m\u001b[0m\u001b[0m\n\u001b[1;32m     45\u001b[0m         \u001b[0mnodes\u001b[0m \u001b[0;34m+=\u001b[0m \u001b[0;36m1\u001b[0m\u001b[0;34m\u001b[0m\u001b[0;34m\u001b[0m\u001b[0m\n\u001b[0;32m---> 46\u001b[0;31m         \u001b[0mavg_cmp\u001b[0m\u001b[0;34m(\u001b[0m\u001b[0mbst\u001b[0m\u001b[0;34m.\u001b[0m\u001b[0ml_child\u001b[0m\u001b[0;34m,\u001b[0m \u001b[0mn\u001b[0m\u001b[0;34m)\u001b[0m\u001b[0;34m\u001b[0m\u001b[0;34m\u001b[0m\u001b[0m\n\u001b[0m\u001b[1;32m     47\u001b[0m \u001b[0;34m\u001b[0m\u001b[0m\n\u001b[1;32m     48\u001b[0m     \u001b[0;31m#If there exists a right child\u001b[0m\u001b[0;34m\u001b[0m\u001b[0;34m\u001b[0m\u001b[0;34m\u001b[0m\u001b[0m\n",
      "\u001b[0;32m<ipython-input-45-0a1f3df6fffe>\u001b[0m in \u001b[0;36mavg_cmp\u001b[0;34m(bst, n)\u001b[0m\n\u001b[1;32m     44\u001b[0m         \u001b[0mn\u001b[0m \u001b[0;34m+=\u001b[0m \u001b[0mdepth\u001b[0m\u001b[0;34m(\u001b[0m\u001b[0mrootnode\u001b[0m\u001b[0;34m,\u001b[0m \u001b[0mbst\u001b[0m\u001b[0;34m.\u001b[0m\u001b[0ml_child\u001b[0m\u001b[0;34m)\u001b[0m\u001b[0;34m\u001b[0m\u001b[0;34m\u001b[0m\u001b[0m\n\u001b[1;32m     45\u001b[0m         \u001b[0mnodes\u001b[0m \u001b[0;34m+=\u001b[0m \u001b[0;36m1\u001b[0m\u001b[0;34m\u001b[0m\u001b[0;34m\u001b[0m\u001b[0m\n\u001b[0;32m---> 46\u001b[0;31m         \u001b[0mavg_cmp\u001b[0m\u001b[0;34m(\u001b[0m\u001b[0mbst\u001b[0m\u001b[0;34m.\u001b[0m\u001b[0ml_child\u001b[0m\u001b[0;34m,\u001b[0m \u001b[0mn\u001b[0m\u001b[0;34m)\u001b[0m\u001b[0;34m\u001b[0m\u001b[0;34m\u001b[0m\u001b[0m\n\u001b[0m\u001b[1;32m     47\u001b[0m \u001b[0;34m\u001b[0m\u001b[0m\n\u001b[1;32m     48\u001b[0m     \u001b[0;31m#If there exists a right child\u001b[0m\u001b[0;34m\u001b[0m\u001b[0;34m\u001b[0m\u001b[0;34m\u001b[0m\u001b[0m\n",
      "\u001b[0;32m<ipython-input-45-0a1f3df6fffe>\u001b[0m in \u001b[0;36mavg_cmp\u001b[0;34m(bst, n)\u001b[0m\n\u001b[1;32m     44\u001b[0m         \u001b[0mn\u001b[0m \u001b[0;34m+=\u001b[0m \u001b[0mdepth\u001b[0m\u001b[0;34m(\u001b[0m\u001b[0mrootnode\u001b[0m\u001b[0;34m,\u001b[0m \u001b[0mbst\u001b[0m\u001b[0;34m.\u001b[0m\u001b[0ml_child\u001b[0m\u001b[0;34m)\u001b[0m\u001b[0;34m\u001b[0m\u001b[0;34m\u001b[0m\u001b[0m\n\u001b[1;32m     45\u001b[0m         \u001b[0mnodes\u001b[0m \u001b[0;34m+=\u001b[0m \u001b[0;36m1\u001b[0m\u001b[0;34m\u001b[0m\u001b[0;34m\u001b[0m\u001b[0m\n\u001b[0;32m---> 46\u001b[0;31m         \u001b[0mavg_cmp\u001b[0m\u001b[0;34m(\u001b[0m\u001b[0mbst\u001b[0m\u001b[0;34m.\u001b[0m\u001b[0ml_child\u001b[0m\u001b[0;34m,\u001b[0m \u001b[0mn\u001b[0m\u001b[0;34m)\u001b[0m\u001b[0;34m\u001b[0m\u001b[0;34m\u001b[0m\u001b[0m\n\u001b[0m\u001b[1;32m     47\u001b[0m \u001b[0;34m\u001b[0m\u001b[0m\n\u001b[1;32m     48\u001b[0m     \u001b[0;31m#If there exists a right child\u001b[0m\u001b[0;34m\u001b[0m\u001b[0;34m\u001b[0m\u001b[0;34m\u001b[0m\u001b[0m\n",
      "\u001b[0;32m<ipython-input-45-0a1f3df6fffe>\u001b[0m in \u001b[0;36mavg_cmp\u001b[0;34m(bst, n)\u001b[0m\n\u001b[1;32m     44\u001b[0m         \u001b[0mn\u001b[0m \u001b[0;34m+=\u001b[0m \u001b[0mdepth\u001b[0m\u001b[0;34m(\u001b[0m\u001b[0mrootnode\u001b[0m\u001b[0;34m,\u001b[0m \u001b[0mbst\u001b[0m\u001b[0;34m.\u001b[0m\u001b[0ml_child\u001b[0m\u001b[0;34m)\u001b[0m\u001b[0;34m\u001b[0m\u001b[0;34m\u001b[0m\u001b[0m\n\u001b[1;32m     45\u001b[0m         \u001b[0mnodes\u001b[0m \u001b[0;34m+=\u001b[0m \u001b[0;36m1\u001b[0m\u001b[0;34m\u001b[0m\u001b[0;34m\u001b[0m\u001b[0m\n\u001b[0;32m---> 46\u001b[0;31m         \u001b[0mavg_cmp\u001b[0m\u001b[0;34m(\u001b[0m\u001b[0mbst\u001b[0m\u001b[0;34m.\u001b[0m\u001b[0ml_child\u001b[0m\u001b[0;34m,\u001b[0m \u001b[0mn\u001b[0m\u001b[0;34m)\u001b[0m\u001b[0;34m\u001b[0m\u001b[0;34m\u001b[0m\u001b[0m\n\u001b[0m\u001b[1;32m     47\u001b[0m \u001b[0;34m\u001b[0m\u001b[0m\n\u001b[1;32m     48\u001b[0m     \u001b[0;31m#If there exists a right child\u001b[0m\u001b[0;34m\u001b[0m\u001b[0;34m\u001b[0m\u001b[0;34m\u001b[0m\u001b[0m\n",
      "\u001b[0;32m<ipython-input-45-0a1f3df6fffe>\u001b[0m in \u001b[0;36mavg_cmp\u001b[0;34m(bst, n)\u001b[0m\n\u001b[1;32m     44\u001b[0m         \u001b[0mn\u001b[0m \u001b[0;34m+=\u001b[0m \u001b[0mdepth\u001b[0m\u001b[0;34m(\u001b[0m\u001b[0mrootnode\u001b[0m\u001b[0;34m,\u001b[0m \u001b[0mbst\u001b[0m\u001b[0;34m.\u001b[0m\u001b[0ml_child\u001b[0m\u001b[0;34m)\u001b[0m\u001b[0;34m\u001b[0m\u001b[0;34m\u001b[0m\u001b[0m\n\u001b[1;32m     45\u001b[0m         \u001b[0mnodes\u001b[0m \u001b[0;34m+=\u001b[0m \u001b[0;36m1\u001b[0m\u001b[0;34m\u001b[0m\u001b[0;34m\u001b[0m\u001b[0m\n\u001b[0;32m---> 46\u001b[0;31m         \u001b[0mavg_cmp\u001b[0m\u001b[0;34m(\u001b[0m\u001b[0mbst\u001b[0m\u001b[0;34m.\u001b[0m\u001b[0ml_child\u001b[0m\u001b[0;34m,\u001b[0m \u001b[0mn\u001b[0m\u001b[0;34m)\u001b[0m\u001b[0;34m\u001b[0m\u001b[0;34m\u001b[0m\u001b[0m\n\u001b[0m\u001b[1;32m     47\u001b[0m \u001b[0;34m\u001b[0m\u001b[0m\n\u001b[1;32m     48\u001b[0m     \u001b[0;31m#If there exists a right child\u001b[0m\u001b[0;34m\u001b[0m\u001b[0;34m\u001b[0m\u001b[0;34m\u001b[0m\u001b[0m\n",
      "\u001b[0;32m<ipython-input-45-0a1f3df6fffe>\u001b[0m in \u001b[0;36mavg_cmp\u001b[0;34m(bst, n)\u001b[0m\n\u001b[1;32m     49\u001b[0m     \u001b[0;32mif\u001b[0m \u001b[0mbst\u001b[0m\u001b[0;34m.\u001b[0m\u001b[0mr_child\u001b[0m\u001b[0;34m:\u001b[0m\u001b[0;34m\u001b[0m\u001b[0;34m\u001b[0m\u001b[0m\n\u001b[1;32m     50\u001b[0m         \u001b[0mprint\u001b[0m\u001b[0;34m(\u001b[0m\u001b[0mbst\u001b[0m\u001b[0;34m.\u001b[0m\u001b[0mr_child\u001b[0m\u001b[0;34m.\u001b[0m\u001b[0mparent\u001b[0m\u001b[0;34m)\u001b[0m\u001b[0;34m\u001b[0m\u001b[0;34m\u001b[0m\u001b[0m\n\u001b[0;32m---> 51\u001b[0;31m         \u001b[0mn\u001b[0m \u001b[0;34m+=\u001b[0m \u001b[0mdepth\u001b[0m\u001b[0;34m(\u001b[0m\u001b[0mrootnode\u001b[0m\u001b[0;34m,\u001b[0m \u001b[0mbst\u001b[0m\u001b[0;34m.\u001b[0m\u001b[0ml_child\u001b[0m\u001b[0;34m)\u001b[0m\u001b[0;34m\u001b[0m\u001b[0;34m\u001b[0m\u001b[0m\n\u001b[0m\u001b[1;32m     52\u001b[0m         \u001b[0mnodes\u001b[0m \u001b[0;34m+=\u001b[0m \u001b[0;36m1\u001b[0m\u001b[0;34m\u001b[0m\u001b[0;34m\u001b[0m\u001b[0m\n\u001b[1;32m     53\u001b[0m         \u001b[0mavg_cmp\u001b[0m\u001b[0;34m(\u001b[0m\u001b[0mbst\u001b[0m\u001b[0;34m.\u001b[0m\u001b[0mr_child\u001b[0m\u001b[0;34m,\u001b[0m \u001b[0mn\u001b[0m\u001b[0;34m)\u001b[0m\u001b[0;34m\u001b[0m\u001b[0;34m\u001b[0m\u001b[0m\n",
      "\u001b[0;32m<ipython-input-45-0a1f3df6fffe>\u001b[0m in \u001b[0;36mdepth\u001b[0;34m(root, node)\u001b[0m\n\u001b[1;32m     10\u001b[0m     - d: int, distance from node to root\"\"\"\n\u001b[1;32m     11\u001b[0m     \u001b[0md\u001b[0m \u001b[0;34m=\u001b[0m \u001b[0;36m0\u001b[0m\u001b[0;34m\u001b[0m\u001b[0;34m\u001b[0m\u001b[0m\n\u001b[0;32m---> 12\u001b[0;31m     \u001b[0;32mif\u001b[0m \u001b[0mnode\u001b[0m\u001b[0;34m.\u001b[0m\u001b[0mparent\u001b[0m \u001b[0;34m==\u001b[0m \u001b[0;32mNone\u001b[0m\u001b[0;34m:\u001b[0m \u001b[0;31m#if the node has no parent\u001b[0m\u001b[0;34m\u001b[0m\u001b[0;34m\u001b[0m\u001b[0m\n\u001b[0m\u001b[1;32m     13\u001b[0m         \u001b[0;32mreturn\u001b[0m \u001b[0md\u001b[0m\u001b[0;34m\u001b[0m\u001b[0;34m\u001b[0m\u001b[0m\n\u001b[1;32m     14\u001b[0m \u001b[0;34m\u001b[0m\u001b[0m\n",
      "\u001b[0;31mAttributeError\u001b[0m: 'NoneType' object has no attribute 'parent'"
     ]
    }
   ],
   "source": [
    "#sampling with replacement\n",
    "import random\n",
    "\n",
    "for x in [Node(random.randint(0,10)) for _ in range(10)]:\n",
    "    print('Inserting the following node: ', x.data)\n",
    "    if not bst:\n",
    "        bst = x\n",
    "    else:\n",
    "        bst.insert(x)\n",
    "        \n",
    "avg_cmp(bst) - 1"
   ]
  },
  {
   "cell_type": "code",
   "execution_count": 42,
   "metadata": {
    "collapsed": false
   },
   "outputs": [
    {
     "data": {
      "text/plain": [
       "<__main__.Node at 0x7f307c59c240>"
      ]
     },
     "execution_count": 42,
     "metadata": {
     },
     "output_type": "execute_result"
    }
   ],
   "source": [
    "Node(5)"
   ]
  },
  {
   "cell_type": "markdown",
   "metadata": {
    "collapsed": false
   },
   "source": [
    "<span class='minerva-question' style='background-color:#5cb85c;padding: 5px 20px 5px 20px;line-height:30px;color:white;font-weight: bold; border-radius: 25px'>Question 4</span>\n",
    "\n",
    "Discuss the following:\n",
    "- Are there any discrepancies between the figures? Investigate possible causes of the discrepancies if there are any.\n",
    "- How does the average depth of a random BST with $N$ nodes scale?\n",
    "- How does the worst depth of a random BST with $N$ nodes scale?\n",
    "\n",
    "Write below (and be prepared to give a brief presentation to the other groups if asked) a summary of the discussion you had with your group about the points above."
   ]
  },
  {
   "cell_type": "code",
   "execution_count": 0,
   "metadata": {
    "collapsed": false
   },
   "outputs": [
   ],
   "source": [
   ]
  }
 ],
 "metadata": {
  "kernelspec": {
   "display_name": "Python 3 (system-wide)",
   "language": "python",
   "metadata": {
    "cocalc": {
     "description": "Python 3 programming language",
     "priority": 100,
     "url": "https://www.python.org/"
    }
   },
   "name": "python3"
  },
  "language_info": {
   "codemirror_mode": {
    "name": "ipython",
    "version": 3
   },
   "file_extension": ".py",
   "mimetype": "text/x-python",
   "name": "python",
   "nbconvert_exporter": "python",
   "pygments_lexer": "ipython3",
   "version": "3.6.9"
  }
 },
 "nbformat": 4,
 "nbformat_minor": 0
}